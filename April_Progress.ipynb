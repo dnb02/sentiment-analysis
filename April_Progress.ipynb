{
  "cells": [
    {
      "cell_type": "markdown",
      "metadata": {
        "id": "_OOXjD86MJZz"
      },
      "source": [
        "#oldies"
      ]
    },
    {
      "cell_type": "code",
      "execution_count": null,
      "metadata": {
        "id": "eyBFXvvnFqzS"
      },
      "outputs": [],
      "source": [
        "from sklearn.model_selection import train_test_split\n",
        "from sklearn.metrics import accuracy_score, classification_report\n",
        "from sklearn.feature_extraction.text import CountVectorizer\n",
        "from sklearn.tree import DecisionTreeClassifier\n",
        "from sklearn.model_selection import GridSearchCV\n",
        "from sklearn.neural_network import MLPClassifier\n",
        "from sklearn.ensemble import AdaBoostClassifier, RandomForestClassifier\n",
        "from sklearn.svm import SVC, LinearSVC\n",
        "from sklearn.neighbors import KNeighborsClassifier\n",
        "from sklearn.naive_bayes import MultinomialNB\n",
        "import numpy as np\n",
        "import pandas as pd"
      ]
    },
    {
      "cell_type": "code",
      "execution_count": null,
      "metadata": {
        "id": "8tXmAUrjMT1v"
      },
      "outputs": [],
      "source": [
        "def remove_non_ascii_1(text):\n",
        "  return ''.join([i if ord(i) < 128 else ' ' for i in text])"
      ]
    },
    {
      "cell_type": "code",
      "execution_count": null,
      "metadata": {
        "colab": {
          "base_uri": "https://localhost:8080/",
          "height": 237
        },
        "id": "mlBGyFbKFk-t",
        "outputId": "b014d294-f693-47c2-e1b2-b35461f883a7"
      },
      "outputs": [
        {
          "output_type": "error",
          "ename": "NameError",
          "evalue": "ignored",
          "traceback": [
            "\u001b[0;31m---------------------------------------------------------------------------\u001b[0m",
            "\u001b[0;31mNameError\u001b[0m                                 Traceback (most recent call last)",
            "\u001b[0;32m<ipython-input-3-1587263ae0b8>\u001b[0m in \u001b[0;36m<cell line: 1>\u001b[0;34m()\u001b[0m\n\u001b[0;32m----> 1\u001b[0;31m \u001b[0mX_train\u001b[0m\u001b[0;34m,\u001b[0m \u001b[0mX_test\u001b[0m\u001b[0;34m,\u001b[0m \u001b[0my_train\u001b[0m\u001b[0;34m,\u001b[0m \u001b[0my_test\u001b[0m \u001b[0;34m=\u001b[0m \u001b[0mtrain_test_split\u001b[0m\u001b[0;34m(\u001b[0m\u001b[0mdf\u001b[0m\u001b[0;34m.\u001b[0m\u001b[0mtext\u001b[0m\u001b[0;34m,\u001b[0m \u001b[0mdf\u001b[0m\u001b[0;34m.\u001b[0m\u001b[0mtarget\u001b[0m\u001b[0;34m,\u001b[0m \u001b[0mtest_size\u001b[0m \u001b[0;34m=\u001b[0m \u001b[0;36m0.1\u001b[0m\u001b[0;34m)\u001b[0m\u001b[0;34m\u001b[0m\u001b[0;34m\u001b[0m\u001b[0m\n\u001b[0m\u001b[1;32m      2\u001b[0m \u001b[0;34m\u001b[0m\u001b[0m\n\u001b[1;32m      3\u001b[0m \u001b[0mv\u001b[0m \u001b[0;34m=\u001b[0m \u001b[0mCountVectorizer\u001b[0m\u001b[0;34m(\u001b[0m\u001b[0;34m)\u001b[0m\u001b[0;34m\u001b[0m\u001b[0;34m\u001b[0m\u001b[0m\n\u001b[1;32m      4\u001b[0m \u001b[0mX_train\u001b[0m \u001b[0;34m=\u001b[0m \u001b[0mv\u001b[0m\u001b[0;34m.\u001b[0m\u001b[0mfit_transform\u001b[0m\u001b[0;34m(\u001b[0m\u001b[0mX_train\u001b[0m\u001b[0;34m)\u001b[0m\u001b[0;34m\u001b[0m\u001b[0;34m\u001b[0m\u001b[0m\n\u001b[1;32m      5\u001b[0m \u001b[0mX_test\u001b[0m \u001b[0;34m=\u001b[0m \u001b[0mv\u001b[0m\u001b[0;34m.\u001b[0m\u001b[0mtransform\u001b[0m\u001b[0;34m(\u001b[0m\u001b[0mX_test\u001b[0m\u001b[0;34m)\u001b[0m\u001b[0;34m\u001b[0m\u001b[0;34m\u001b[0m\u001b[0m\n",
            "\u001b[0;31mNameError\u001b[0m: name 'df' is not defined"
          ]
        }
      ],
      "source": [
        "X_train, X_test, y_train, y_test = train_test_split(df.text, df.target, test_size = 0.1)\n",
        "\n",
        "v = CountVectorizer()\n",
        "X_train = v.fit_transform(X_train)\n",
        "X_test = v.transform(X_test)"
      ]
    },
    {
      "cell_type": "code",
      "execution_count": null,
      "metadata": {
        "id": "alcDZpRYMLEw"
      },
      "outputs": [],
      "source": [
        "from google.colab import drive\n",
        "drive.mount('/content/drive')\n",
        "import os\n",
        "path=\"/content/drive/MyDrive/ProjectFiles/reviewzz\"\n",
        "\n",
        "reviews_pos = os.listdir(path+\"/pos\")\n",
        "reviews_neg = os.listdir(path+\"/neg\")\n",
        "reviews=[]\n",
        "for i in reviews_pos:\n",
        "  reviews.append(i)\n",
        "for i in reviews_neg:\n",
        "  reviews.append(i)\n",
        "r=[]\n",
        "for i in reviews_pos:\n",
        "  f=open(path+'/pos/'+i,mode='rb')\n",
        "  no_ascii=remove_non_ascii_1(str(f.read()))\n",
        "  r.append((no_ascii,i))\n",
        "  f.close()\n",
        "for i in reviews_neg:\n",
        "  f=open(path+'/neg/'+i,mode='rb')\n",
        "  no_ascii=remove_non_ascii_1(str(f.read()))\n",
        "  r.append((no_ascii,i))\n",
        "  f.close()\n",
        "import pandas as pd\n",
        "df=pd.DataFrame(r)\n",
        "df['label']=df[1].apply(lambda x: 1 if x[0:3]=='pos' else 0)\n",
        "df.columns=['review','file_name','label']\n",
        "df.drop(columns = ['file_name'],axis=1)"
      ]
    },
    {
      "cell_type": "markdown",
      "metadata": {
        "id": "EXPzQDxk3cKj"
      },
      "source": [
        "##some remaining results of bo pang\n"
      ]
    },
    {
      "cell_type": "code",
      "execution_count": null,
      "metadata": {
        "id": "NWcas9yc3ShM"
      },
      "outputs": [],
      "source": [
        "model = KNeighborsClassifier()\n",
        "model.fit(X_train, y_train)\n",
        "y_pred = model.predict(X_test)\n",
        "print(accuracy_score(y_test, y_pred))"
      ]
    },
    {
      "cell_type": "code",
      "execution_count": null,
      "metadata": {
        "id": "09kLbEqi3VKD"
      },
      "outputs": [],
      "source": [
        "model = LinearSVC()\n",
        "model.fit(X_train,y_train)\n",
        "y_pred = model.predict(X_test)\n",
        "print(accuracy_score(y_test, y_pred))"
      ]
    },
    {
      "cell_type": "code",
      "execution_count": null,
      "metadata": {
        "id": "YZ1xmmur3WRs"
      },
      "outputs": [],
      "source": [
        "model = MultinomialNB()\n",
        "model.fit(X_train, y_train)\n",
        "y_pred = model.predict(X_train, y_train)\n",
        "print(accuracy_score(y_test, y_pred))"
      ]
    },
    {
      "cell_type": "code",
      "execution_count": null,
      "metadata": {
        "id": "YOZwP2nM5NhB"
      },
      "outputs": [],
      "source": [
        "import warnings\n",
        "warnings.filterwarnings(\"ignore\")"
      ]
    },
    {
      "cell_type": "markdown",
      "metadata": {
        "id": "6NdHQCr936K7"
      },
      "source": [
        "# trial and error"
      ]
    },
    {
      "cell_type": "markdown",
      "metadata": {
        "id": "wnM5jK5iLH0x"
      },
      "source": [
        "What you learnt?\n",
        "<br>\n",
        "\n",
        "\n",
        "neural networks dont work well for high dimensional data"
      ]
    },
    {
      "cell_type": "code",
      "execution_count": null,
      "metadata": {
        "id": "oXMc9dH17ehg"
      },
      "outputs": [],
      "source": [
        "import pandas as pd\n",
        "from sklearn.datasets import load_diabetes\n",
        "from sklearn.model_selection import train_test_split\n",
        "from sklearn.neural_network import MLPClassifier\n",
        "from sklearn.metrics import accuracy_score, classification_report\n",
        "import numpy as np"
      ]
    },
    {
      "cell_type": "code",
      "execution_count": null,
      "metadata": {
        "id": "ZEtmDk9t4ipr"
      },
      "outputs": [],
      "source": [
        "df = load_diabetes(as_frame=True)\n"
      ]
    },
    {
      "cell_type": "code",
      "execution_count": null,
      "metadata": {
        "id": "gCAIBL-sFoHn"
      },
      "outputs": [],
      "source": [
        "model = MLPClassifier()\n",
        "model.fit(X_train, y_train)"
      ]
    },
    {
      "cell_type": "code",
      "execution_count": null,
      "metadata": {
        "colab": {
          "base_uri": "https://localhost:8080/"
        },
        "id": "GmnNFM6b4sXf",
        "outputId": "e2c58abe-9cc6-476d-d0e8-5418be82b436"
      },
      "outputs": [
        {
          "name": "stdout",
          "output_type": "stream",
          "text": [
            "330    244.0\n",
            "162    172.0\n",
            "28     131.0\n",
            "172    295.0\n",
            "376    121.0\n",
            "       ...  \n",
            "378    245.0\n",
            "396     43.0\n",
            "394    273.0\n",
            "67      97.0\n",
            "107    144.0\n",
            "Name: target, Length: 133, dtype: float64\n",
            "------\n",
            "[178. 200.  90. 220. 220.  84.  59. 200. 178. 310. 220.  90.  90. 220.\n",
            "  84. 200.  90. 178.  90.  84. 178.  84. 178. 200. 220. 310. 178.  59.\n",
            "  90. 178.  84.  90. 220. 220. 200. 178. 178. 200.  84. 220.  90. 178.\n",
            " 200.  84. 220. 178. 220. 178.  90. 178. 200.  84. 220.  90.  90. 200.\n",
            " 200. 178.  90.  90. 220. 220.  84. 200. 220. 178. 220. 310. 178. 220.\n",
            " 200.  90.  90. 220. 281. 220.  90. 178.  84.  84.  84. 220. 200. 178.\n",
            " 200. 220. 220.  90.  90. 178. 220. 178.  90. 178.  90. 200. 200.  90.\n",
            " 220. 310. 220. 220. 220. 178. 220. 178.  90.  84.  90.  84.  84. 178.\n",
            " 200. 220.  59. 200. 200. 178.  84.  84. 200.  59.  90.  84.  90. 220.\n",
            " 220.  90. 178. 200. 281. 178.  84.]\n"
          ]
        }
      ],
      "source": [
        "y_pred = model.predict(X_test)\n",
        "print(y_test)\n",
        "print(\"------\")\n",
        "print(y_pred)"
      ]
    },
    {
      "cell_type": "code",
      "execution_count": null,
      "metadata": {
        "id": "jh1oiOLME11X"
      },
      "outputs": [],
      "source": [
        "from importlib.resources import as_file\n",
        "from sklearn.datasets import load_diabetes\n",
        "from sklearn.model_selection import train_test_split\n",
        "from sklearn.metrics import accuracy_score, classification_report\n",
        "from sklearn.metrics import r2_score\n",
        "from sklearn.neural_network import MLPClassifier\n",
        "\n",
        "d = load_diabetes()\n",
        "X = d.data\n",
        "y = d.target\n"
      ]
    },
    {
      "cell_type": "code",
      "execution_count": null,
      "metadata": {
        "id": "n68F6jQJGtuH"
      },
      "outputs": [],
      "source": [
        "X_train, X_test, y_train, y_test = train_test_split(X,y,test_size=0.2,random_state=3)"
      ]
    },
    {
      "cell_type": "code",
      "execution_count": null,
      "metadata": {
        "colab": {
          "base_uri": "https://localhost:8080/"
        },
        "id": "C3Kjlh2uG-Ep",
        "outputId": "1af774bd-b1de-4a73-fe59-12d9cdb3dda7"
      },
      "outputs": [
        {
          "name": "stdout",
          "output_type": "stream",
          "text": [
            "0.09157578224502771\n"
          ]
        }
      ],
      "source": [
        "model = MLPClassifier()\n",
        "model.fit(X_train,y_train)\n",
        "y_pred = model.predict(X_test)\n",
        "print(r2_score(y_test, y_pred))"
      ]
    },
    {
      "cell_type": "code",
      "execution_count": null,
      "metadata": {
        "colab": {
          "base_uri": "https://localhost:8080/"
        },
        "id": "pwcmvbcCKDRJ",
        "outputId": "e8eee598-6aef-4506-f7b3-559e40279159"
      },
      "outputs": [
        {
          "name": "stdout",
          "output_type": "stream",
          "text": [
            "r2: 1.0\n"
          ]
        }
      ],
      "source": [
        "from sklearn import datasets\n",
        "from sklearn.model_selection import train_test_split\n",
        "from sklearn.svm import SVC\n",
        "from sklearn.metrics import accuracy_score\n",
        "from sklearn.neural_network import MLPClassifier\n",
        "model = MLPClassifier()\n",
        "\n",
        "iris = datasets.load_iris()\n",
        "\n",
        "X_train, X_test, y_train, y_test = train_test_split(iris.data, iris.target, test_size=0.2, random_state=42)\n",
        "\n",
        "svm_model = SVC()\n",
        "model.fit(X_train, y_train)\n",
        "y_pred = model.predict(X_test)\n",
        "r2 = r2_score(y_test, y_pred)\n",
        "print(\"r2:\", r2)\n"
      ]
    },
    {
      "cell_type": "code",
      "execution_count": null,
      "metadata": {
        "colab": {
          "base_uri": "https://localhost:8080/"
        },
        "id": "5mFmpETpMYsb",
        "outputId": "fd688e65-6551-4aed-9fba-bb304307f0e9"
      },
      "outputs": [
        {
          "name": "stdout",
          "output_type": "stream",
          "text": [
            "0.7928571428571428\n"
          ]
        }
      ],
      "source": [
        "from sklearn.model_selection import train_test_split\n",
        "from sklearn.feature_extraction.text import CountVectorizer\n",
        "from sklearn.naive_bayes import MultinomialNB\n",
        "from sklearn.metrics import classification_report, accuracy_score\n",
        "\n",
        "X_train,X_test,y_train,y_test=train_test_split(df.review,df.label,test_size=0.2)\n",
        "\n",
        "v = CountVectorizer()\n",
        "X_train = v.fit_transform(X_train)\n",
        "model=MultinomialNB()\n",
        "model.fit(X_train,y_train)\n",
        "\n",
        "X_test = v.transform(X_test)\n",
        "y_pred=model.predict(X_test)\n",
        "print(accuracy_score(y_test,y_pred))"
      ]
    },
    {
      "cell_type": "markdown",
      "metadata": {
        "id": "iDn8hbHEy2DV"
      },
      "source": [
        "#Decision trees"
      ]
    },
    {
      "cell_type": "code",
      "execution_count": null,
      "metadata": {
        "colab": {
          "base_uri": "https://localhost:8080/"
        },
        "id": "eMt5CWuGzTfK",
        "outputId": "ecaab729-075e-4824-b236-1f763171cc1f"
      },
      "outputs": [
        {
          "name": "stdout",
          "output_type": "stream",
          "text": [
            "0.5857142857142857\n"
          ]
        }
      ],
      "source": [
        "X_train, X_test, y_train, y_test = train_test_split(df.review, df.label, test_size = 0.1)\n",
        "\n",
        "v = CountVectorizer()\n",
        "X_train = v.fit_transform(X_train)\n",
        "X_test = v.transform(X_test)\n",
        "\n",
        "model = DecisionTreeClassifier(max_depth = 20, random_state = 5)\n",
        "model.fit(X_train, y_train)\n",
        "y_pred = model.predict(X_test)\n",
        "print(accuracy_score(y_test,y_pred))"
      ]
    },
    {
      "cell_type": "markdown",
      "metadata": {
        "id": "NnKhP8W01x_P"
      },
      "source": [
        "##working for adaboost to get more out of decision trees"
      ]
    },
    {
      "cell_type": "code",
      "execution_count": null,
      "metadata": {
        "colab": {
          "base_uri": "https://localhost:8080/"
        },
        "id": "GPZ35YMe11PB",
        "outputId": "17baf699-e9eb-4784-f415-c328a9af27e8"
      },
      "outputs": [
        {
          "name": "stdout",
          "output_type": "stream",
          "text": [
            "0.7357142857142858\n"
          ]
        }
      ],
      "source": [
        "from sklearn.ensemble import AdaBoostClassifier\n",
        "super_model = AdaBoostClassifier(model, n_estimators = 50, random_state = 42)\n",
        "super_model.fit(X_train, y_train)\n",
        "y_pred = super_model.predict(X_test)\n",
        "print(accuracy_score(y_test, y_pred))"
      ]
    },
    {
      "cell_type": "markdown",
      "metadata": {
        "id": "Sn2bz2Xm9TZz"
      },
      "source": [
        "##getting best hyperparams for adaboost and decision trees"
      ]
    },
    {
      "cell_type": "code",
      "execution_count": null,
      "metadata": {
        "id": "UrxYZb_f8KPu"
      },
      "outputs": [],
      "source": [
        "model = DecisionTreeClassifier(max_depth = 10)\n",
        "supermodel = AdaBoostClassifier(base_estimator = model)\n",
        "\n",
        "param_grid = {\n",
        "    'max_depth':[ i for i in range(10,150,20)]+[None] ,\n",
        "    'criterion': [ \"gini\",\"entrophy\"] ,\n",
        "    'max_features':[ \"auto\", \"sqrt\",\"log2\"]\n",
        "}\n",
        "\n",
        "grid_search = GridSearchCV(model, param_grid, cv = 5)\n",
        "grid_search.fit(X_train, y_train)\n",
        "\n",
        "\n",
        "best_params = grid_search.best_params_\n",
        "best_score = grid_search.best_score_\n",
        "\n",
        "print(\"Best Parameters: \", best_params)\n",
        "print(\"Best Score: \", best_score)\n"
      ]
    },
    {
      "cell_type": "markdown",
      "metadata": {
        "id": "_Yc4JVRxOXCL"
      },
      "source": [
        "Best Parameters:  {'criterion': 'gini', 'max_depth': 10, 'max_features': 'auto' <br>\n",
        "Best Score:  0.6007936507936508"
      ]
    },
    {
      "cell_type": "code",
      "execution_count": null,
      "metadata": {
        "colab": {
          "base_uri": "https://localhost:8080/"
        },
        "id": "vn4ayRGF5yRy",
        "outputId": "04132095-f9ce-4867-ebe8-f91d2a918ea6"
      },
      "outputs": [
        {
          "name": "stdout",
          "output_type": "stream",
          "text": [
            "Best Parameters:  {'learning_rate': 0.01, 'n_estimators': 100}\n",
            "Best Score:  0.7039682539682539\n"
          ]
        }
      ],
      "source": [
        "model = DecisionTreeClassifier(max_features='auto')\n",
        "supermodel = AdaBoostClassifier(base_estimator = model)\n",
        "\n",
        "param_grid = {\n",
        "    'n_estimators': [i for i in range(10,150,30)] ,\n",
        "    'learning_rate':[ 0.01, 0.1, 0,5, 1]\n",
        "}\n",
        "\n",
        "grid_search = GridSearchCV(supermodel, param_grid, cv = 5)\n",
        "grid_search.fit(X_train, y_train)\n",
        "\n",
        "\n",
        "best_params = grid_search.best_params_\n",
        "best_score = grid_search.best_score_\n",
        "\n",
        "print(\"Best Parameters: \", best_params)\n",
        "print(\"Best Score: \", best_score)\n"
      ]
    },
    {
      "cell_type": "markdown",
      "metadata": {
        "id": "a-6Vs6-9OOeU"
      },
      "source": [
        "Best Parameters:  {'learning_rate': 0.01, 'n_estimators': 100}<br>\n",
        "Best Score:  0.7039682539682539\n"
      ]
    },
    {
      "cell_type": "markdown",
      "metadata": {
        "id": "QxxnJggkN4i6"
      },
      "source": [
        "# NEURAL NETWORK"
      ]
    },
    {
      "cell_type": "code",
      "execution_count": null,
      "metadata": {
        "colab": {
          "base_uri": "https://localhost:8080/"
        },
        "id": "-DSIB_ziOS6B",
        "outputId": "4658661a-e769-414b-ea35-13c837aa4f89"
      },
      "outputs": [
        {
          "name": "stdout",
          "output_type": "stream",
          "text": [
            "0.7642857142857142\n"
          ]
        }
      ],
      "source": [
        "model = MLPClassifier(hidden_layer_sizes=(100,200,500,1000,200,100))\n",
        "model.fit(X_train,y_train)\n",
        "y_pred = model.predict(X_test)\n",
        "print(accuracy_score(y_test,y_pred))"
      ]
    },
    {
      "cell_type": "code",
      "execution_count": null,
      "metadata": {
        "id": "8OJOr9tJ3hwP"
      },
      "outputs": [],
      "source": [
        "X_train,y_train"
      ]
    },
    {
      "cell_type": "markdown",
      "metadata": {
        "id": "3HXv2GNLyPBY"
      },
      "source": [
        "##finding best Hyperparameters"
      ]
    },
    {
      "cell_type": "code",
      "execution_count": null,
      "metadata": {
        "id": "NzAiKmvYSZNS"
      },
      "outputs": [],
      "source": [
        "from sklearn.model_selection import ShuffleSplit,GridSearchCV\n",
        "\n",
        "cv = ShuffleSplit(n_splits=1, test_size=0.2, random_state=1)\n",
        "\n",
        "param_grid = {\n",
        "    'hidden_layer_sizes':[5,10,100,(5,10),(3,5,3),(10,5,10),(50,100,50)] ,\n",
        "    'activation':['identity', 'logistics', 'tanh', 'relu'],\n",
        "    'solver': ['lbfgs','sgd', 'adam'],\n",
        "    'learning_rate': ['constant','invscaling','adaptive']\n",
        "}\n",
        "\n",
        "gridSearch = GridSearchCV(MLPClassifier(), param_grid, cv=cv,\n",
        "                          scoring=['f1'],refit='f1', verbose=2)\n",
        "\n"
      ]
    },
    {
      "cell_type": "code",
      "execution_count": null,
      "metadata": {
        "id": "Fu9gT8on0uA4"
      },
      "outputs": [],
      "source": [
        "gridSearch.fit(X_train, y_train.replace({'yes':1,'no':0}))\n",
        "#gridSearch.fit(X_train, y_train)\n",
        "print('score: ',gridSearch.best_score_)\n",
        "print('parameters: ',gridSearch.best_params_)"
      ]
    },
    {
      "cell_type": "code",
      "execution_count": null,
      "metadata": {
        "id": "f9ZRvQqp0_aC"
      },
      "outputs": [],
      "source": [
        "parameters=  {'activation': 'identity', 'hidden_layer_sizes': 5, 'learning_rate': 'invscaling', 'solver': 'adam'}\n",
        "#85% ig"
      ]
    },
    {
      "cell_type": "markdown",
      "metadata": {
        "id": "CNhWvWLYAt0K"
      },
      "source": [
        "#Boosting (xgboost and adaboost)"
      ]
    },
    {
      "cell_type": "code",
      "execution_count": null,
      "metadata": {
        "colab": {
          "base_uri": "https://localhost:8080/"
        },
        "id": "9Ft9XDl0Axer",
        "outputId": "83f025c3-dcc3-43bd-da19-bb75e41f42c5"
      },
      "outputs": [
        {
          "name": "stdout",
          "output_type": "stream",
          "text": [
            "Accuracy: 0.75\n"
          ]
        }
      ],
      "source": [
        "#assume df is loaded\n",
        "import xgboost as xgb\n",
        "from sklearn.metrics import accuracy_score\n",
        "from sklearn.model_selection import train_test_split\n",
        "\n",
        "# Step 1: Prepare the Data\n",
        "# Load and preprocess your sentiment classification dataset\n",
        "# Assuming you have X_train and y_train as your training data and labels\n",
        "\n",
        "# Step 2: Prepare Features and Labels\n",
        "# Extract features from your preprocessed data\n",
        "# Step 3: Split the Data\n",
        "X_train, X_test, y_train, y_test = train_test_split(X_train, y_train, test_size=0.2, random_state=42)\n",
        "\n",
        "# Step 4: Train a Gradient Boosting Model\n",
        "# Instantiate an XGBoost classifier with desired hyperparameters\n",
        "gbm = xgb.XGBClassifier(\n",
        "    learning_rate=0.1,\n",
        "    n_estimators=100,\n",
        "    max_depth=3,\n",
        "    subsample=0.8,\n",
        "    random_state=42\n",
        ")\n",
        "\n",
        "# Fit the model to the training data\n",
        "gbm.fit(X_train, y_train)\n",
        "\n",
        "# Step 5: Evaluate the Model\n",
        "# Predict on the test data\n",
        "y_pred = gbm.predict(X_test)\n",
        "\n",
        "# Calculate accuracy\n",
        "accuracy = accuracy_score(y_test, y_pred)\n",
        "print(\"Accuracy:\", accuracy)\n",
        "\n",
        "# Step 6: Fine-tune and Optimize\n",
        "# Experiment with different hyperparameter settings, feature representations, etc.\n",
        "# Repeat the process of training, evaluating, and fine-tuning until desired performance is achieved\n",
        "\n"
      ]
    },
    {
      "cell_type": "code",
      "execution_count": null,
      "metadata": {
        "id": "Q20mririCLuD"
      },
      "outputs": [],
      "source": [
        "X_train = df['review']\n",
        "y_train = df['label']"
      ]
    },
    {
      "cell_type": "code",
      "execution_count": null,
      "metadata": {
        "colab": {
          "base_uri": "https://localhost:8080/"
        },
        "id": "MeaF34msFDzq",
        "outputId": "cbaccdc1-5f9e-41ed-e027-d4922ce45c83"
      },
      "outputs": [
        {
          "name": "stdout",
          "output_type": "stream",
          "text": [
            "Accuracy: 0.775\n"
          ]
        }
      ],
      "source": [
        "from sklearn.feature_extraction.text import CountVectorizer\n",
        "\n",
        "vectorizer = CountVectorizer()\n",
        "X_train_vectorized = vectorizer.fit_transform(df['review'])\n",
        "X_train, X_test, y_train, y_test = train_test_split(X_train_vectorized, df['label'], test_size=0.2, random_state=42)\n",
        "gbm = xgb.XGBClassifier(\n",
        "    learning_rate=0.1,\n",
        "    n_estimators=100,\n",
        "    max_depth=7,\n",
        "    subsample=0.8,\n",
        "    random_state=42\n",
        ")\n",
        "gbm.fit(X_train, y_train)\n",
        "y_pred = gbm.predict(X_test)\n",
        "accuracy = accuracy_score(y_test, y_pred)\n",
        "print(\"Accuracy:\", accuracy)\n"
      ]
    },
    {
      "cell_type": "code",
      "execution_count": null,
      "metadata": {
        "colab": {
          "base_uri": "https://localhost:8080/"
        },
        "id": "0_Y8n-YuGSsc",
        "outputId": "f4dab71d-c53d-4f78-a0a5-04253f5e5822"
      },
      "outputs": [
        {
          "name": "stdout",
          "output_type": "stream",
          "text": [
            "Accuracy: 0.6821428571428572\n"
          ]
        }
      ],
      "source": [
        "import pandas as pd\n",
        "from sklearn.feature_extraction.text import CountVectorizer\n",
        "from sklearn.ensemble import AdaBoostClassifier\n",
        "from sklearn.tree import DecisionTreeClassifier\n",
        "from sklearn.metrics import accuracy_score\n",
        "from sklearn.model_selection import train_test_split\n",
        "\n",
        "# Load and preprocess your sentiment classification dataset into a DataFrame (df)\n",
        "# Assuming you have df with 'review' as features and 'label' as labels\n",
        "\n",
        "# Extract features and labels from the DataFrame\n",
        "X = df['review']\n",
        "y = df['label']\n",
        "\n",
        "# Split the data into train and test sets\n",
        "X_train, X_test, y_train, y_test = train_test_split(X, y, test_size=0.2, random_state=42)\n",
        "\n",
        "# Count vectorization\n",
        "vectorizer = CountVectorizer()\n",
        "X_train_vectorized = vectorizer.fit_transform(X_train)\n",
        "X_test_vectorized = vectorizer.transform(X_test)\n",
        "\n",
        "# Instantiate a base classifier (e.g. DecisionTreeClassifier) and an AdaBoost classifier\n",
        "base_classifier = DecisionTreeClassifier(max_depth=10) # You can adjust the hyperparameters of the base classifier\n",
        "ada_boost = AdaBoostClassifier(base_classifier, n_estimators=50, random_state=42) # You can adjust the hyperparameters of AdaBoost\n",
        "\n",
        "# Fit the model to the training data\n",
        "ada_boost.fit(X_train_vectorized, y_train)\n",
        "\n",
        "# Predict on the test data\n",
        "y_pred = ada_boost.predict(X_test_vectorized)\n",
        "\n",
        "# Calculate accuracy\n",
        "accuracy = accuracy_score(y_test, y_pred)\n",
        "print(\"Accuracy:\", accuracy)\n",
        "\n",
        "# Fine-tune and optimize the model as needed\n"
      ]
    },
    {
      "cell_type": "markdown",
      "metadata": {
        "id": "TtcxhPooF0BH"
      },
      "source": [
        "# Bagging(random forest)"
      ]
    },
    {
      "cell_type": "code",
      "execution_count": null,
      "metadata": {
        "id": "fYfk7nsVF5X_"
      },
      "outputs": [],
      "source": [
        "Clearing the cache and cookies of your browser can sometimes help fix issues with the interface. You can try this by going to your browser settings and clearing the cache\n",
        "\n",
        "meta_features = np.hstack((preds1.reshape(-1,1), preds2.reshape(-1,1), preds3.reshape(-1,1)))\n",
        "\n",
        "meta_model = XGBClassifier(random_state = 42)\n",
        "meta_model.fit(meta_features, y_test)\n",
        "\n",
        "stacked_preds = meta_model.predict(meta_features)\n",
        "\n",
        "accuracy = accuracy_score(y_test, stacked_preds)\n",
        "print(\"Stacked Ensemble Accuracy:\", accuracy)\n",
        "\n",
        "#84%"
      ]
    },
    {
      "cell_type": "code",
      "execution_count": null,
      "metadata": {
        "id": "BX7apC73MgbZ"
      },
      "outputs": [],
      "source": [
        "from sklearn.model_selection import GridSearchCV\n",
        "from sklearn.ensemble import RandomForestClassifier\n",
        "\n",
        "param_grid = {\n",
        "    'n_estimators': [50, 100, 200],\n",
        "    'criterion': ['gini', 'entropy'],\n",
        "    'max_depth': [None, 10, 20],\n",
        "    'min_samples_split': [2, 5, 10],\n",
        "    'min_samples_leaf': [1, 2, 4],\n",
        "    'max_features': ['auto', 'sqrt'],Clearing the cache and cookies of your browser can sometimes help fix issues with the interface. You can try this by going to your browser settings and clearing the cache\n",
        "    'bootstrap': [True, False],\n",
        "    'class_weight': [None, 'balanced'],\n",
        "    'random_state': [42]\n",
        "}\n",
        "\n",
        "rf_classifier = RandomForestClassifier()\n",
        "\n",
        "grid_search = GridSearchCV(estimator=rf_classifier, param_grid=param_grid, scoring='accuracy', cv=5)\n",
        "\n",
        "grid_search.fit(X_train, y_train)  # Replace X_train and y_train with your actual training data and labels\n",
        "\n",
        "best_params = grid_search.best_params_\n",
        "print(\"Best Hyperparameters:\", best_params)\n",
        "\n",
        "best_score = grid_search.best_score_\n",
        "print(\"Best Accuracy:\", best_score)\n"
      ]
    },
    {
      "cell_type": "code",
      "execution_count": null,
      "metadata": {
        "id": "6ET3RghuKvA7"
      },
      "outputs": [],
      "source": [
        "df.to_csv('bo pang lee.csv',index=False)"
      ]
    },
    {
      "cell_type": "markdown",
      "metadata": {
        "id": "JHhAgQkzSWAm"
      },
      "source": [
        "#What to do next?\n",
        "1. do grid search to get best parameters for mlp\n",
        "2. have chatgpt list the best algos for classification\n",
        "3. just implement them\n",
        "4. learn later\n",
        "5. list everything to learn\n"
      ]
    },
    {
      "cell_type": "markdown",
      "metadata": {
        "id": "aNoeJlTBS_Yd"
      },
      "source": [
        "# TO LEARN\n",
        "1. f1 score, recall, precision, accuracy\n",
        "2. which algo is best for what situation(mnb, svm, mlp, etc)"
      ]
    },
    {
      "cell_type": "markdown",
      "metadata": {
        "id": "hvcaYcq1_Aez"
      },
      "source": [
        "#ENDGAME"
      ]
    },
    {
      "cell_type": "markdown",
      "metadata": {
        "id": "bf8EmU8h0fQP"
      },
      "source": [
        "##Tweets Dataset\n"
      ]
    },
    {
      "cell_type": "code",
      "execution_count": null,
      "metadata": {
        "colab": {
          "base_uri": "https://localhost:8080/"
        },
        "id": "mFIQqlfZ0gzz",
        "outputId": "2ecf7be8-e743-4f2b-e119-199d9d885cc1"
      },
      "outputs": [
        {
          "output_type": "stream",
          "name": "stdout",
          "text": [
            "Mounted at /content/drive\n"
          ]
        }
      ],
      "source": [
        "# Load the Drive helper and mount\n",
        "from google.colab import drive\n",
        "\n",
        "# This will prompt for authorization.\n",
        "drive.mount('/content/drive')\n"
      ]
    },
    {
      "cell_type": "code",
      "execution_count": null,
      "metadata": {
        "id": "pz34PNQs0ktP"
      },
      "outputs": [],
      "source": [
        "filepath = \"/content/drive/MyDrive/ProjectFiles/tweets/tweetz.csv\"\n",
        "df = pd.read_csv(filepath,encoding='latin1')\n",
        "df.columns = ['target','id','date','flag','user','text']\n",
        "#df = df[['target','text']]"
      ]
    },
    {
      "cell_type": "code",
      "execution_count": null,
      "metadata": {
        "id": "wJCuN5Oow2ic"
      },
      "outputs": [],
      "source": [
        "X_train, X_test, y_train, y_test = train_test_split(df.text, df.target, test_size = 0.2)\n",
        "\n",
        "v = CountVectorizer()\n",
        "X_train = v.fit_transform(X_train)\n",
        "X_test = v.transform(X_test)"
      ]
    },
    {
      "cell_type": "code",
      "execution_count": null,
      "metadata": {
        "id": "Iy5T4jyTXNsn"
      },
      "outputs": [],
      "source": [
        "df['label']=df['target'].apply(lambda x: 1 if x==4 else 0)"
      ]
    },
    {
      "cell_type": "code",
      "execution_count": null,
      "metadata": {
        "id": "t1YwijhNYH9n"
      },
      "outputs": [],
      "source": [
        "df = df[['label','text']]"
      ]
    },
    {
      "cell_type": "code",
      "execution_count": null,
      "metadata": {
        "id": "6_GtzciAYRVA"
      },
      "outputs": [],
      "source": [
        "df"
      ]
    },
    {
      "cell_type": "code",
      "execution_count": null,
      "metadata": {
        "id": "Zh1EQUjn1ktJ"
      },
      "outputs": [],
      "source": [
        "model = LinearSVC()\n",
        "model.fit(X_train,y_train)\n",
        "y_pred = model.predict(X_test)\n",
        "print(accuracy_score(y_test, y_pred))\n",
        "#0.79"
      ]
    },
    {
      "cell_type": "code",
      "execution_count": null,
      "metadata": {
        "id": "ZNLAQNioyuJx"
      },
      "outputs": [],
      "source": [
        "model = KNeighborsClassifier()\n",
        "model.fit(X_train, y_train)\n",
        "y_pred = model.predict(X_test)\n",
        "print(accuracy_score(y_test, y_pred))"
      ]
    },
    {
      "cell_type": "code",
      "execution_count": null,
      "metadata": {
        "colab": {
          "base_uri": "https://localhost:8080/"
        },
        "id": "BEVdBEIuzS5d",
        "outputId": "1c5297af-5aa9-4e65-a8d1-a9a9e5e1770d"
      },
      "outputs": [
        {
          "name": "stdout",
          "output_type": "stream",
          "text": [
            "0.78075625\n"
          ]
        }
      ],
      "source": [
        "model = MultinomialNB()\n",
        "model.fit(X_train, y_train)\n",
        "y_pred = model.predict(X_test)\n",
        "print(accuracy_score(y_test, y_pred))\n",
        "#0.78075625"
      ]
    },
    {
      "cell_type": "code",
      "execution_count": null,
      "metadata": {
        "colab": {
          "background_save": true
        },
        "id": "U0CITAsrzkxg",
        "outputId": "fa136946-48de-470c-f696-426cafdccada"
      },
      "outputs": [
        {
          "name": "stdout",
          "output_type": "stream",
          "text": [
            "0.735453125\n"
          ]
        }
      ],
      "source": [
        "model = DecisionTreeClassifier()\n",
        "model.fit(X_train, y_train)\n",
        "y_pred = model.predict(X_test)\n",
        "print(accuracy_score(y_test, y_pred))\n",
        "#0.735453125"
      ]
    },
    {
      "cell_type": "code",
      "execution_count": null,
      "metadata": {
        "id": "sg6KJdnHzt_l"
      },
      "outputs": [],
      "source": [
        "model = MLPClassifier()\n",
        "model.fit(X_train, y_train)\n",
        "y_pred = model.predict(X_test)\n",
        "print(accuracy_score(y_test, y_pred))"
      ]
    },
    {
      "cell_type": "code",
      "execution_count": null,
      "metadata": {
        "id": "RNQPwTJ80dE1"
      },
      "outputs": [],
      "source": [
        "model = DecisionTreeClassifier()\n",
        "supermodel   = AdaBoostClassifier(model, learning_rate=0.01, n_estimators = 100)\n",
        "model.fit(X_train, y_train)\n",
        "y_pred = model.predict(X_test)\n",
        "print(accuracy_score(y_test, y_pred))"
      ]
    },
    {
      "cell_type": "code",
      "execution_count": null,
      "metadata": {
        "colab": {
          "background_save": true
        },
        "id": "P1sfPVbHUymW",
        "outputId": "162b79c6-7ba8-47f4-e586-846c7776c555"
      },
      "outputs": [
        {
          "name": "stdout",
          "output_type": "stream",
          "text": [
            "Accuracy score: 0.761515625\n"
          ]
        }
      ],
      "source": [
        "xgb_clf = xgb.XGBClassifier()\n",
        "xgb_clf.fit(X_train, y_train)\n",
        "y_pred = xgb_clf.predict(X_test)\n",
        "acc_score = accuracy_score(y_test, y_pred)\n",
        "print(\"Accuracy score:\", acc_score)\n",
        "#0.761515625"
      ]
    },
    {
      "cell_type": "code",
      "source": [
        "model = RandomForestClassifier()\n",
        "model.fit(X_train, y_train)\n",
        "y_pred = model.predict(X_test)\n",
        "print(accuracy_score(y_test, y_pred))"
      ],
      "metadata": {
        "id": "M8ViHkaLEAtO"
      },
      "execution_count": null,
      "outputs": []
    },
    {
      "cell_type": "markdown",
      "source": [
        "## tweets dataset analysis"
      ],
      "metadata": {
        "id": "NJUJlsAaDG3h"
      }
    },
    {
      "cell_type": "code",
      "source": [
        "import seaborn as sns\n",
        "\n",
        "corr_maxtrix = df.corr()\n",
        "sns.heatmap(corr_maxtrix,annot=True)"
      ],
      "metadata": {
        "colab": {
          "base_uri": "https://localhost:8080/",
          "height": 507
        },
        "id": "YZD1gn-sDOqv",
        "outputId": "4c68d880-be63-4ba0-b113-ce084c2ca7d8"
      },
      "execution_count": null,
      "outputs": [
        {
          "output_type": "stream",
          "name": "stderr",
          "text": [
            "<ipython-input-28-3a125fc6a367>:3: FutureWarning: The default value of numeric_only in DataFrame.corr is deprecated. In a future version, it will default to False. Select only valid columns or specify the value of numeric_only to silence this warning.\n",
            "  corr_maxtrix = df.corr()\n"
          ]
        },
        {
          "output_type": "execute_result",
          "data": {
            "text/plain": [
              "<Axes: >"
            ]
          },
          "metadata": {},
          "execution_count": 28
        },
        {
          "output_type": "display_data",
          "data": {
            "text/plain": [
              "<Figure size 640x480 with 2 Axes>"
            ],
            "image/png": "[encoded data removed]"
          },
          "metadata": {}
        }
      ]
    },
    {
      "cell_type": "code",
      "source": [
        "df"
      ],
      "metadata": {
        "colab": {
          "base_uri": "https://localhost:8080/",
          "height": 424
        },
        "id": "hi0VSj_sHO9D",
        "outputId": "8ee3d5d4-d873-4c84-b54d-4cb815644664"
      },
      "execution_count": null,
      "outputs": [
        {
          "output_type": "execute_result",
          "data": {
            "text/plain": [
              "         target          id                          date      flag  \\\n",
              "0             0  1467810672  Mon Apr 06 22:19:49 PDT 2009  NO_QUERY   \n",
              "1             0  1467810917  Mon Apr 06 22:19:53 PDT 2009  NO_QUERY   \n",
              "2             0  1467811184  Mon Apr 06 22:19:57 PDT 2009  NO_QUERY   \n",
              "3             0  1467811193  Mon Apr 06 22:19:57 PDT 2009  NO_QUERY   \n",
              "4             0  1467811372  Mon Apr 06 22:20:00 PDT 2009  NO_QUERY   \n",
              "...         ...         ...                           ...       ...   \n",
              "1599994       4  2193601966  Tue Jun 16 08:40:49 PDT 2009  NO_QUERY   \n",
              "1599995       4  2193601969  Tue Jun 16 08:40:49 PDT 2009  NO_QUERY   \n",
              "1599996       4  2193601991  Tue Jun 16 08:40:49 PDT 2009  NO_QUERY   \n",
              "1599997       4  2193602064  Tue Jun 16 08:40:49 PDT 2009  NO_QUERY   \n",
              "1599998       4  2193602129  Tue Jun 16 08:40:50 PDT 2009  NO_QUERY   \n",
              "\n",
              "                    user                                               text  \\\n",
              "0          scotthamilton  is upset that he can't update his Facebook by ...   \n",
              "1               mattycus  @Kenichan I dived many times for the ball. Man...   \n",
              "2                ElleCTF    my whole body feels itchy and like its on fire    \n",
              "3                 Karoli  @nationwideclass no, it's not behaving at all....   \n",
              "4               joy_wolf                      @Kwesidei not the whole crew    \n",
              "...                  ...                                                ...   \n",
              "1599994  AmandaMarie1028  Just woke up. Having no school is the best fee...   \n",
              "1599995      TheWDBoards  TheWDB.com - Very cool to hear old Walt interv...   \n",
              "1599996           bpbabe  Are you ready for your MoJo Makeover? Ask me f...   \n",
              "1599997     tinydiamondz  Happy 38th Birthday to my boo of alll time!!! ...   \n",
              "1599998   RyanTrevMorris  happy #charitytuesday @theNSPCC @SparksCharity...   \n",
              "\n",
              "         label  \n",
              "0            0  \n",
              "1            0  \n",
              "2            0  \n",
              "3            0  \n",
              "4            0  \n",
              "...        ...  \n",
              "1599994      1  \n",
              "1599995      1  \n",
              "1599996      1  \n",
              "1599997      1  \n",
              "1599998      1  \n",
              "\n",
              "[1599999 rows x 7 columns]"
            ],
            "text/html": [
              "\n",
              "  <div id=\"df-4fcf3076-488d-4512-9bcb-8ac97c2b9cb1\">\n",
              "    <div class=\"colab-df-container\">\n",
              "      <div>\n",
              "<style scoped>\n",
              "    .dataframe tbody tr th:only-of-type {\n",
              "        vertical-align: middle;\n",
              "    }\n",
              "\n",
              "    .dataframe tbody tr th {\n",
              "        vertical-align: top;\n",
              "    }\n",
              "\n",
              "    .dataframe thead th {\n",
              "        text-align: right;\n",
              "    }\n",
              "</style>\n",
              "<table border=\"1\" class=\"dataframe\">\n",
              "  <thead>\n",
              "    <tr style=\"text-align: right;\">\n",
              "      <th></th>\n",
              "      <th>target</th>\n",
              "      <th>id</th>\n",
              "      <th>date</th>\n",
              "      <th>flag</th>\n",
              "      <th>user</th>\n",
              "      <th>text</th>\n",
              "      <th>label</th>\n",
              "    </tr>\n",
              "  </thead>\n",
              "  <tbody>\n",
              "    <tr>\n",
              "      <th>0</th>\n",
              "      <td>0</td>\n",
              "      <td>1467810672</td>\n",
              "      <td>Mon Apr 06 22:19:49 PDT 2009</td>\n",
              "      <td>NO_QUERY</td>\n",
              "      <td>scotthamilton</td>\n",
              "      <td>is upset that he can't update his Facebook by ...</td>\n",
              "      <td>0</td>\n",
              "    </tr>\n",
              "    <tr>\n",
              "      <th>1</th>\n",
              "      <td>0</td>\n",
              "      <td>1467810917</td>\n",
              "      <td>Mon Apr 06 22:19:53 PDT 2009</td>\n",
              "      <td>NO_QUERY</td>\n",
              "      <td>mattycus</td>\n",
              "      <td>@Kenichan I dived many times for the ball. Man...</td>\n",
              "      <td>0</td>\n",
              "    </tr>\n",
              "    <tr>\n",
              "      <th>2</th>\n",
              "      <td>0</td>\n",
              "      <td>1467811184</td>\n",
              "      <td>Mon Apr 06 22:19:57 PDT 2009</td>\n",
              "      <td>NO_QUERY</td>\n",
              "      <td>ElleCTF</td>\n",
              "      <td>my whole body feels itchy and like its on fire</td>\n",
              "      <td>0</td>\n",
              "    </tr>\n",
              "    <tr>\n",
              "      <th>3</th>\n",
              "      <td>0</td>\n",
              "      <td>1467811193</td>\n",
              "      <td>Mon Apr 06 22:19:57 PDT 2009</td>\n",
              "      <td>NO_QUERY</td>\n",
              "      <td>Karoli</td>\n",
              "      <td>@nationwideclass no, it's not behaving at all....</td>\n",
              "      <td>0</td>\n",
              "    </tr>\n",
              "    <tr>\n",
              "      <th>4</th>\n",
              "      <td>0</td>\n",
              "      <td>1467811372</td>\n",
              "      <td>Mon Apr 06 22:20:00 PDT 2009</td>\n",
              "      <td>NO_QUERY</td>\n",
              "      <td>joy_wolf</td>\n",
              "      <td>@Kwesidei not the whole crew</td>\n",
              "      <td>0</td>\n",
              "    </tr>\n",
              "    <tr>\n",
              "      <th>...</th>\n",
              "      <td>...</td>\n",
              "      <td>...</td>\n",
              "      <td>...</td>\n",
              "      <td>...</td>\n",
              "      <td>...</td>\n",
              "      <td>...</td>\n",
              "      <td>...</td>\n",
              "    </tr>\n",
              "    <tr>\n",
              "      <th>1599994</th>\n",
              "      <td>4</td>\n",
              "      <td>2193601966</td>\n",
              "      <td>Tue Jun 16 08:40:49 PDT 2009</td>\n",
              "      <td>NO_QUERY</td>\n",
              "      <td>AmandaMarie1028</td>\n",
              "      <td>Just woke up. Having no school is the best fee...</td>\n",
              "      <td>1</td>\n",
              "    </tr>\n",
              "    <tr>\n",
              "      <th>1599995</th>\n",
              "      <td>4</td>\n",
              "      <td>2193601969</td>\n",
              "      <td>Tue Jun 16 08:40:49 PDT 2009</td>\n",
              "      <td>NO_QUERY</td>\n",
              "      <td>TheWDBoards</td>\n",
              "      <td>TheWDB.com - Very cool to hear old Walt interv...</td>\n",
              "      <td>1</td>\n",
              "    </tr>\n",
              "    <tr>\n",
              "      <th>1599996</th>\n",
              "      <td>4</td>\n",
              "      <td>2193601991</td>\n",
              "      <td>Tue Jun 16 08:40:49 PDT 2009</td>\n",
              "      <td>NO_QUERY</td>\n",
              "      <td>bpbabe</td>\n",
              "      <td>Are you ready for your MoJo Makeover? Ask me f...</td>\n",
              "      <td>1</td>\n",
              "    </tr>\n",
              "    <tr>\n",
              "      <th>1599997</th>\n",
              "      <td>4</td>\n",
              "      <td>2193602064</td>\n",
              "      <td>Tue Jun 16 08:40:49 PDT 2009</td>\n",
              "      <td>NO_QUERY</td>\n",
              "      <td>tinydiamondz</td>\n",
              "      <td>Happy 38th Birthday to my boo of alll time!!! ...</td>\n",
              "      <td>1</td>\n",
              "    </tr>\n",
              "    <tr>\n",
              "      <th>1599998</th>\n",
              "      <td>4</td>\n",
              "      <td>2193602129</td>\n",
              "      <td>Tue Jun 16 08:40:50 PDT 2009</td>\n",
              "      <td>NO_QUERY</td>\n",
              "      <td>RyanTrevMorris</td>\n",
              "      <td>happy #charitytuesday @theNSPCC @SparksCharity...</td>\n",
              "      <td>1</td>\n",
              "    </tr>\n",
              "  </tbody>\n",
              "</table>\n",
              "<p>1599999 rows × 7 columns</p>\n",
              "</div>\n",
              "      <button class=\"colab-df-convert\" onclick=\"convertToInteractive('df-4fcf3076-488d-4512-9bcb-8ac97c2b9cb1')\"\n",
              "              title=\"Convert this dataframe to an interactive table.\"\n",
              "              style=\"display:none;\">\n",
              "        \n",
              "  <svg xmlns=\"http://www.w3.org/2000/svg\" height=\"24px\"viewBox=\"0 0 24 24\"\n",
              "       width=\"24px\">\n",
              "    <path d=\"M0 0h24v24H0V0z\" fill=\"none\"/>\n",
              "    <path d=\"M18.56 5.44l.94 2.06.94-2.06 2.06-.94-2.06-.94-.94-2.06-.94 2.06-2.06.94zm-11 1L8.5 8.5l.94-2.06 2.06-.94-2.06-.94L8.5 2.5l-.94 2.06-2.06.94zm10 10l.94 2.06.94-2.06 2.06-.94-2.06-.94-.94-2.06-.94 2.06-2.06.94z\"/><path d=\"M17.41 7.96l-1.37-1.37c-.4-.4-.92-.59-1.43-.59-.52 0-1.04.2-1.43.59L10.3 9.45l-7.72 7.72c-.78.78-.78 2.05 0 2.83L4 21.41c.39.39.9.59 1.41.59.51 0 1.02-.2 1.41-.59l7.78-7.78 2.81-2.81c.8-.78.8-2.07 0-2.86zM5.41 20L4 18.59l7.72-7.72 1.47 1.35L5.41 20z\"/>\n",
              "  </svg>\n",
              "      </button>\n",
              "      \n",
              "  <style>\n",
              "    .colab-df-container {\n",
              "      display:flex;\n",
              "      flex-wrap:wrap;\n",
              "      gap: 12px;\n",
              "    }\n",
              "\n",
              "    .colab-df-convert {\n",
              "      background-color: #E8F0FE;\n",
              "      border: none;\n",
              "      border-radius: 50%;\n",
              "      cursor: pointer;\n",
              "      display: none;\n",
              "      fill: #1967D2;\n",
              "      height: 32px;\n",
              "      padding: 0 0 0 0;\n",
              "      width: 32px;\n",
              "    }\n",
              "\n",
              "    .colab-df-convert:hover {\n",
              "      background-color: #E2EBFA;\n",
              "      box-shadow: 0px 1px 2px rgba(60, 64, 67, 0.3), 0px 1px 3px 1px rgba(60, 64, 67, 0.15);\n",
              "      fill: #174EA6;\n",
              "    }\n",
              "\n",
              "    [theme=dark] .colab-df-convert {\n",
              "      background-color: #3B4455;\n",
              "      fill: #D2E3FC;\n",
              "    }\n",
              "\n",
              "    [theme=dark] .colab-df-convert:hover {\n",
              "      background-color: #434B5C;\n",
              "      box-shadow: 0px 1px 3px 1px rgba(0, 0, 0, 0.15);\n",
              "      filter: drop-shadow(0px 1px 2px rgba(0, 0, 0, 0.3));\n",
              "      fill: #FFFFFF;\n",
              "    }\n",
              "  </style>\n",
              "\n",
              "      <script>\n",
              "        const buttonEl =\n",
              "          document.querySelector('#df-4fcf3076-488d-4512-9bcb-8ac97c2b9cb1 button.colab-df-convert');\n",
              "        buttonEl.style.display =\n",
              "          google.colab.kernel.accessAllowed ? 'block' : 'none';\n",
              "\n",
              "        async function convertToInteractive(key) {\n",
              "          const element = document.querySelector('#df-4fcf3076-488d-4512-9bcb-8ac97c2b9cb1');\n",
              "          const dataTable =\n",
              "            await google.colab.kernel.invokeFunction('convertToInteractive',\n",
              "                                                     [key], {});\n",
              "          if (!dataTable) return;\n",
              "\n",
              "          const docLinkHtml = 'Like what you see? Visit the ' +\n",
              "            '<a target=\"_blank\" href=https://colab.research.google.com/notebooks/data_table.ipynb>data table notebook</a>'\n",
              "            + ' to learn more about interactive tables.';\n",
              "          element.innerHTML = '';\n",
              "          dataTable['output_type'] = 'display_data';\n",
              "          await google.colab.output.renderOutput(dataTable, element);\n",
              "          const docLink = document.createElement('div');\n",
              "          docLink.innerHTML = docLinkHtml;\n",
              "          element.appendChild(docLink);\n",
              "        }\n",
              "      </script>\n",
              "    </div>\n",
              "  </div>\n",
              "  "
            ]
          },
          "metadata": {},
          "execution_count": 24
        }
      ]
    }
  ],
  "metadata": {
    "colab": {
      "collapsed_sections": [
        "6NdHQCr936K7",
        "CNhWvWLYAt0K"
      ],
      "provenance": [],
      "toc_visible": true
    },
    "kernelspec": {
      "display_name": "Python 3",
      "name": "python3"
    },
    "language_info": {
      "name": "python"
    }
  },
  "nbformat": 4,
  "nbformat_minor": 0
}