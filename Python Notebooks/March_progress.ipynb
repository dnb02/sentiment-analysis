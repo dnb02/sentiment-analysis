{
  "nbformat": 4,
  "nbformat_minor": 0,
  "metadata": {
    "colab": {
      "provenance": [],
      "collapsed_sections": [
        "LBa1XWlbmoJi",
        "F_GHR-TJmuUA",
        "3MG7heBMsDBS",
        "FypgbAgDvWcJ"
      ]
    },
    "kernelspec": {
      "name": "python3",
      "display_name": "Python 3"
    },
    "language_info": {
      "name": "python"
    }
  },
  "cells": [
    {
      "cell_type": "markdown",
      "source": [
        "#April Doing"
      ],
      "metadata": {
        "id": "CNhWvWLYAt0K"
      }
    },
    {
      "cell_type": "code",
      "source": [
        "#assume df is loaded\n",
        "import xgboost as xgb\n",
        "from sklearn.metrics import accuracy_score\n",
        "from sklearn.model_selection import train_test_split\n",
        "\n",
        "# Step 1: Prepare the Data\n",
        "# Load and preprocess your sentiment classification dataset\n",
        "# Assuming you have X_train and y_train as your training data and labels\n",
        "\n",
        "# Step 2: Prepare Features and Labels\n",
        "# Extract features from your preprocessed data\n",
        "# Step 3: Split the Data\n",
        "X_train, X_test, y_train, y_test = train_test_split(X_train, y_train, test_size=0.2, random_state=42)\n",
        "\n",
        "# Step 4: Train a Gradient Boosting Model\n",
        "# Instantiate an XGBoost classifier with desired hyperparameters\n",
        "gbm = xgb.XGBClassifier(\n",
        "    learning_rate=0.1,\n",
        "    n_estimators=100,\n",
        "    max_depth=3,\n",
        "    subsample=0.8,\n",
        "    random_state=42\n",
        ")\n",
        "\n",
        "# Fit the model to the training data\n",
        "gbm.fit(X_train, y_train)\n",
        "\n",
        "# Step 5: Evaluate the Model\n",
        "# Predict on the test data\n",
        "y_pred = gbm.predict(X_test)\n",
        "\n",
        "# Calculate accuracy\n",
        "accuracy = accuracy_score(y_test, y_pred)\n",
        "print(\"Accuracy:\", accuracy)\n",
        "\n",
        "# Step 6: Fine-tune and Optimize\n",
        "# Experiment with different hyperparameter settings, feature representations, etc.\n",
        "# Repeat the process of training, evaluating, and fine-tuning until desired performance is achieved\n",
        "\n"
      ],
      "metadata": {
        "id": "9Ft9XDl0Axer"
      },
      "execution_count": null,
      "outputs": []
    },
    {
      "cell_type": "code",
      "source": [
        "import xgboost as xgb\n",
        "\n",
        "# Assuming 'X' and 'y' are your feature matrix and target vector, respectively\n",
        "dtrain = xgb.DMatrix(data=X, label=y, enable_categorical=True)\n"
      ],
      "metadata": {
        "id": "nv99u_U1DEO0"
      },
      "execution_count": null,
      "outputs": []
    },
    {
      "cell_type": "code",
      "source": [
        "X_train = df['review']\n",
        "y_train = df['label']"
      ],
      "metadata": {
        "id": "Q20mririCLuD"
      },
      "execution_count": null,
      "outputs": []
    },
    {
      "cell_type": "code",
      "source": [
        "from sklearn.feature_extraction.text import CountVectorizer\n",
        "\n",
        "vectorizer = CountVectorizer()\n",
        "X_train_vectorized = vectorizer.fit_transform(df['review'])\n",
        "X_train, X_test, y_train, y_test = train_test_split(X_train_vectorized, df['label'], test_size=0.2, random_state=42)\n",
        "gbm = xgb.XGBClassifier(\n",
        "    learning_rate=0.1,\n",
        "    n_estimators=100,\n",
        "    max_depth=7,\n",
        "    subsample=0.8,\n",
        "    random_state=42\n",
        ")\n",
        "gbm.fit(X_train, y_train)\n",
        "y_pred = gbm.predict(X_test)\n",
        "accuracy = accuracy_score(y_test, y_pred)\n",
        "print(\"Accuracy:\", accuracy)\n"
      ],
      "metadata": {
        "colab": {
          "base_uri": "https://localhost:8080/"
        },
        "id": "MeaF34msFDzq",
        "outputId": "74d4ceba-869d-49ea-9181-4a014e1430c7"
      },
      "execution_count": null,
      "outputs": [
        {
          "output_type": "stream",
          "name": "stdout",
          "text": [
            "Accuracy: 0.775\n"
          ]
        }
      ]
    },
    {
      "cell_type": "code",
      "source": [
        "import pandas as pd\n",
        "from sklearn.feature_extraction.text import CountVectorizer\n",
        "from sklearn.ensemble import AdaBoostClassifier\n",
        "from sklearn.tree import DecisionTreeClassifier\n",
        "from sklearn.metrics import accuracy_score\n",
        "from sklearn.model_selection import train_test_split\n",
        "\n",
        "# Load and preprocess your sentiment classification dataset into a DataFrame (df)\n",
        "# Assuming you have df with 'review' as features and 'label' as labels\n",
        "\n",
        "# Extract features and labels from the DataFrame\n",
        "X = df['review']\n",
        "y = df['label']\n",
        "\n",
        "# Split the data into train and test sets\n",
        "X_train, X_test, y_train, y_test = train_test_split(X, y, test_size=0.2, random_state=42)\n",
        "\n",
        "# Count vectorization\n",
        "vectorizer = CountVectorizer()\n",
        "X_train_vectorized = vectorizer.fit_transform(X_train)\n",
        "X_test_vectorized = vectorizer.transform(X_test)\n",
        "\n",
        "# Instantiate a base classifier (e.g. DecisionTreeClassifier) and an AdaBoost classifier\n",
        "base_classifier = DecisionTreeClassifier(max_depth=10) # You can adjust the hyperparameters of the base classifier\n",
        "ada_boost = AdaBoostClassifier(base_classifier, n_estimators=100, random_state=42) # You can adjust the hyperparameters of AdaBoost\n",
        "\n",
        "# Fit the model to the training data\n",
        "ada_boost.fit(X_train_vectorized, y_train)\n",
        "\n",
        "# Predict on the test data\n",
        "y_pred = ada_boost.predict(X_test_vectorized)\n",
        "\n",
        "# Calculate accuracy\n",
        "accuracy = accuracy_score(y_test, y_pred)\n",
        "print(\"Accuracy:\", accuracy)\n",
        "\n",
        "# Fine-tune and optimize the model as needed\n"
      ],
      "metadata": {
        "colab": {
          "base_uri": "https://localhost:8080/"
        },
        "id": "0_Y8n-YuGSsc",
        "outputId": "773ad467-df34-48cd-d476-a1c7a4ff9a4b"
      },
      "execution_count": null,
      "outputs": [
        {
          "output_type": "stream",
          "name": "stdout",
          "text": [
            "Accuracy: 0.7285714285714285\n"
          ]
        }
      ]
    },
    {
      "cell_type": "code",
      "source": [],
      "metadata": {
        "id": "K1RcECl3F8dj"
      },
      "execution_count": null,
      "outputs": []
    },
    {
      "cell_type": "markdown",
      "source": [
        "# Exploring sklearn inbuilt datasets"
      ],
      "metadata": {
        "id": "LBa1XWlbmoJi"
      }
    },
    {
      "cell_type": "code",
      "execution_count": null,
      "metadata": {
        "id": "lQix39KhjSbZ"
      },
      "outputs": [],
      "source": [
        "from sklearn import datasets"
      ]
    },
    {
      "cell_type": "code",
      "source": [
        "cancer=datasets.load_breast_cancer()"
      ],
      "metadata": {
        "id": "PtlpaKDikJn4"
      },
      "execution_count": null,
      "outputs": []
    },
    {
      "cell_type": "code",
      "source": [
        "x=cancer.data\n",
        "y=cancer.target\n"
      ],
      "metadata": {
        "id": "HWlZxbpykIyh"
      },
      "execution_count": null,
      "outputs": []
    },
    {
      "cell_type": "code",
      "source": [
        "dir(cancer)"
      ],
      "metadata": {
        "colab": {
          "base_uri": "https://localhost:8080/"
        },
        "id": "nKW0kJunlGiG",
        "outputId": "fb10c30f-b205-4244-b832-3d8787967d05"
      },
      "execution_count": null,
      "outputs": [
        {
          "output_type": "execute_result",
          "data": {
            "text/plain": [
              "['DESCR',\n",
              " 'data',\n",
              " 'data_module',\n",
              " 'feature_names',\n",
              " 'filename',\n",
              " 'frame',\n",
              " 'target',\n",
              " 'target_names']"
            ]
          },
          "metadata": {},
          "execution_count": 14
        }
      ]
    },
    {
      "cell_type": "code",
      "source": [
        "features=cancer.feature_names"
      ],
      "metadata": {
        "colab": {
          "base_uri": "https://localhost:8080/"
        },
        "id": "PLMdpfRHk-df",
        "outputId": "e5b06b8a-7a4f-40f1-adf7-bbd15f7aefe0"
      },
      "execution_count": null,
      "outputs": [
        {
          "output_type": "stream",
          "name": "stdout",
          "text": [
            "['mean radius' 'mean texture' 'mean perimeter' 'mean area'\n",
            " 'mean smoothness' 'mean compactness' 'mean concavity'\n",
            " 'mean concave points' 'mean symmetry' 'mean fractal dimension'\n",
            " 'radius error' 'texture error' 'perimeter error' 'area error'\n",
            " 'smoothness error' 'compactness error' 'concavity error'\n",
            " 'concave points error' 'symmetry error' 'fractal dimension error'\n",
            " 'worst radius' 'worst texture' 'worst perimeter' 'worst area'\n",
            " 'worst smoothness' 'worst compactness' 'worst concavity'\n",
            " 'worst concave points' 'worst symmetry' 'worst fractal dimension']\n"
          ]
        }
      ]
    },
    {
      "cell_type": "markdown",
      "source": [
        "# stratified/normal Kfold cross validation"
      ],
      "metadata": {
        "id": "F_GHR-TJmuUA"
      }
    },
    {
      "cell_type": "code",
      "source": [
        "from sklearn.model_selection import KFold\n",
        "from sklearn.model_selection import cross_val_score\n",
        "from sklearn.naive_bayes import MultinomialNB\n",
        "from sklearn.feature_extraction.text import CountVectorizer\n",
        "import numpy as np\n",
        "\n",
        "# Load your dataset\n",
        "docs = ['this is the first document', 'this is the second document', 'third document is here', 'the last document']\n",
        "\n",
        "# Define the labels for each document\n",
        "labels = ['class 1', 'class 1', 'class 2', 'class 2']\n",
        "\n",
        "# Define the number of folds\n",
        "k = 4\n",
        "\n",
        "# Define the vectorizer to transform the documents into a bag-of-words representation\n",
        "vectorizer = CountVectorizer()\n",
        "\n",
        "# Transform the documents into a bag-of-words representation\n",
        "X = vectorizer.fit_transform(docs)\n",
        "\n",
        "# Define the model\n",
        "model = MultinomialNB()\n",
        "\n",
        "# Define the cross-validation method\n",
        "kfold = KFold(n_splits=k, shuffle=True)\n",
        "\n",
        "# Evaluate the model using k-fold cross-validation\n",
        "scores = cross_val_score(model, X, labels, cv=kfold)\n",
        "\n",
        "# Print the average performance across all folds\n",
        "print(\"Accuracy: %.2f%% (+/- %.2f%%)\" % (np.mean(scores) * 100, np.std(scores) * 100))\n"
      ],
      "metadata": {
        "colab": {
          "base_uri": "https://localhost:8080/"
        },
        "id": "gAb-2pKEwsod",
        "outputId": "9475f195-353b-47ab-9060-cd07a69bbdc7"
      },
      "execution_count": null,
      "outputs": [
        {
          "output_type": "stream",
          "name": "stdout",
          "text": [
            "Accuracy: 50.00% (+/- 50.00%)\n"
          ]
        }
      ]
    },
    {
      "cell_type": "code",
      "source": [
        "from sklearn import preprocessing\n",
        "scaler = preprocessing.MinMaxScaler()\n",
        "x_scaled = scaler.fit_transform(r)\n",
        "\n",
        "# from sklearn import linear_model\n",
        "# lr=linear_model.LogisticRegression()\n",
        "# lst_accu_stratified=[]\n",
        "\n",
        "# from sklearn.model_selection import StratifiedKFold\n",
        "# skf=StratifiedKFold(n_splits=10,shuffle=True,random_state=1)\n",
        "\n",
        "# for train_index,test_index in skf.split(x,y):\n",
        "#   x_train_fold,x_test_fold=x_scaled[train_index],x_scaled[test_index]\n",
        "#   y_train_fold,y_test_fold=y[train_index],y[test_index]\n",
        "#   lr.fit(x_train_fold,y_train_fold)\n",
        "#   lst_accu_stratified.append(lr.score(x_test_fold,y_test_fold))\n",
        "\n",
        "# from statistics import mean,stdev\n",
        "\n",
        "# print('List of possible accuracy:', lst_accu_stratified)\n",
        "# print('\\nMaximum Accuracy That can be obtained from this model is:',\tmax(lst_accu_stratified)*100, '%')\n",
        "# print('\\nMinimum Accuracy:',\tmin(lst_accu_stratified)*100, '%')\n",
        "# print('\\nOverall Accuracy:',\tmean(lst_accu_stratified)*100, '%')\n",
        "# print('\\nStandard Deviation is:', stdev(lst_accu_stratified))"
      ],
      "metadata": {
        "id": "p0ZdzAhewTiQ"
      },
      "execution_count": null,
      "outputs": []
    },
    {
      "cell_type": "markdown",
      "source": [
        "# Skeletal Code"
      ],
      "metadata": {
        "id": "3MG7heBMsDBS"
      }
    },
    {
      "cell_type": "markdown",
      "source": [
        "Getting Sentiment Data"
      ],
      "metadata": {
        "id": "BTdjqOqIs1zr"
      }
    },
    {
      "cell_type": "code",
      "source": [
        "#You've gotten data but how will you label 'em??\n",
        "#use pos and neg folder classification, and define a lambda?"
      ],
      "metadata": {
        "id": "kHy21Ge7Aib1"
      },
      "execution_count": null,
      "outputs": []
    },
    {
      "cell_type": "code",
      "source": [
        "def remove_non_ascii_1(text):\n",
        "  return ''.join([i if ord(i) < 128 else ' ' for i in text])"
      ],
      "metadata": {
        "id": "FsZwnYMns_WU"
      },
      "execution_count": null,
      "outputs": []
    },
    {
      "cell_type": "code",
      "source": [
        "from google.colab import drive\n",
        "drive.mount('/content/drive')\n",
        "\n",
        "import os\n",
        "path=\"/content/drive/MyDrive/ProjectFiles/reviewzz\"\n",
        "\n",
        "reviews_pos = os.listdir(path+\"/pos\")\n",
        "reviews_neg = os.listdir(path+\"/neg\")\n",
        "reviews=[]\n",
        "for i in reviews_pos:\n",
        "  reviews.append(i)\n",
        "for i in reviews_neg:\n",
        "  reviews.append(i)\n",
        "r=[]\n",
        "for i in reviews_pos:\n",
        "  f=open(path+'/pos/'+i,mode='rb')\n",
        "  no_ascii=remove_non_ascii_1(str(f.read()))\n",
        "  r.append((no_ascii,i))\n",
        "  f.close()\n",
        "for i in reviews_neg:\n",
        "  f=open(path+'/neg/'+i,mode='rb')\n",
        "  no_ascii=remove_non_ascii_1(str(f.read()))\n",
        "  r.append((no_ascii,i))\n",
        "  f.close()\n",
        "\n"
      ],
      "metadata": {
        "colab": {
          "base_uri": "https://localhost:8080/"
        },
        "id": "wm07Zqi1s6Eg",
        "outputId": "f99d69f8-302a-4076-e1aa-0993fec293aa"
      },
      "execution_count": null,
      "outputs": [
        {
          "output_type": "stream",
          "name": "stdout",
          "text": [
            "Mounted at /content/drive\n"
          ]
        }
      ]
    },
    {
      "cell_type": "code",
      "source": [
        "import pandas as pd\n",
        "df=pd.DataFrame(r)\n",
        "df['label']=df[1].apply(lambda x: 1 if x[0:3]=='pos' else 0)\n",
        "df.columns=['review','file_name','label']\n",
        "df= df.drop('file_name',axis=1)"
      ],
      "metadata": {
        "id": "zzwyBOKEtB40"
      },
      "execution_count": null,
      "outputs": []
    },
    {
      "cell_type": "code",
      "source": [
        "from sklearn.model_selection import train_test_split\n",
        "\n",
        "tuning=[1.0, 1.1, 1.2, 1.3, 1.4, 1.5, 1.6, 1.7, 1.8, 1.9, 2.0, 2.1,2.2,2.3,2.4,2.5,2.6,2.7,2.8,2.9,3.0]\n",
        "X_train,X_test,y_train,y_test=train_test_split(df.review,df.label,test_size=0.2,random_state=False)"
      ],
      "metadata": {
        "id": "XbHj8S7ytGpr"
      },
      "execution_count": null,
      "outputs": []
    },
    {
      "cell_type": "code",
      "source": [
        "\n",
        "from sklearn.feature_extraction.text import CountVectorizer\n",
        "from sklearn.naive_bayes import GaussianNB, MultinomialNB\n",
        "from sklearn.metrics import classification_report, accuracy_score\n",
        "from sklearn.svm import SVC\n",
        "\n",
        "\n",
        "\n",
        "v = CountVectorizer()\n",
        "X_train = v.fit_transform(X_train).toarray()\n",
        "model=GaussianNB()\n",
        "model.fit(X_train,y_train)\n",
        "\n",
        "X_test = v.transform(X_test).toarray()\n",
        "y_pred=model.predict(X_test)\n",
        "print(classification_report(y_test,y_pred))\n"
      ],
      "metadata": {
        "id": "Aa6cuvzzyZyP"
      },
      "execution_count": null,
      "outputs": []
    },
    {
      "cell_type": "code",
      "source": [
        "v = CountVectorizer()\n",
        "#X_train = v.fit_transform(X_train).toarray()\n",
        "model=MultinomialNB()\n",
        "model.fit(X_train,y_train)\n",
        "\n",
        "#X_test = v.transform(X_test).toarray()\n",
        "y_pred=model.predict(X_test)\n",
        "print(classification_report(y_test,y_pred))"
      ],
      "metadata": {
        "colab": {
          "base_uri": "https://localhost:8080/"
        },
        "id": "zehqjVYV7tDU",
        "outputId": "c3707469-61d0-412f-ec2f-e735464fd793"
      },
      "execution_count": null,
      "outputs": [
        {
          "output_type": "stream",
          "name": "stdout",
          "text": [
            "              precision    recall  f1-score   support\n",
            "\n",
            "           0       0.76      0.83      0.79       135\n",
            "           1       0.83      0.75      0.79       145\n",
            "\n",
            "    accuracy                           0.79       280\n",
            "   macro avg       0.79      0.79      0.79       280\n",
            "weighted avg       0.79      0.79      0.79       280\n",
            "\n"
          ]
        }
      ]
    },
    {
      "cell_type": "code",
      "source": [
        "v=CountVectorizer()\n",
        "model=SVC()\n",
        "model.fit(X_train,y_train)\n",
        "y_pred=model.predict(X_test)\n",
        "print(accuracy_score(y_test,y_pred))"
      ],
      "metadata": {
        "colab": {
          "base_uri": "https://localhost:8080/"
        },
        "id": "_UCSf6mB82nf",
        "outputId": "0ec8320f-0fc5-4c0e-9185-d97f6f96cb26"
      },
      "execution_count": null,
      "outputs": [
        {
          "output_type": "stream",
          "name": "stdout",
          "text": [
            "0.7607142857142857\n"
          ]
        }
      ]
    },
    {
      "cell_type": "markdown",
      "source": [
        "# Hyperparameter tuning\n"
      ],
      "metadata": {
        "id": "FypgbAgDvWcJ"
      }
    },
    {
      "cell_type": "code",
      "source": [
        "from sklearn.naive_bayes import MultinomialNB"
      ],
      "metadata": {
        "id": "cLM5D0jqxWvv"
      },
      "execution_count": null,
      "outputs": []
    },
    {
      "cell_type": "code",
      "source": [
        "hyperparameter_tuning=[]\n",
        "for i in tuning:\n",
        "  model=MultinomialNB(alpha=i)\n",
        "  model.fit(X_train,y_train)\n",
        "  y_pred=model.predict(X_test)\n",
        "  hyperparameter_tuning.append((i,accuracy_score(y_test,y_pred)))\n",
        "print(hyperparameter_tuning)"
      ],
      "metadata": {
        "id": "wH1V_T1cxcsc"
      },
      "execution_count": null,
      "outputs": []
    },
    {
      "cell_type": "markdown",
      "source": [
        "# Coding an ANN in PyTorch"
      ],
      "metadata": {
        "id": "3nAcxoYNZ41n"
      }
    },
    {
      "cell_type": "code",
      "source": [
        "import torch\n",
        "import torch.nn as nn\n",
        "import torch.nn.functional as F\n",
        "from torch.optim import SGD\n",
        "\n",
        "import matplotlib.pyplot as plt\n",
        "import seaborn as sns"
      ],
      "metadata": {
        "id": "3vMBM0k6Z8-_"
      },
      "execution_count": null,
      "outputs": []
    },
    {
      "cell_type": "code",
      "source": [
        "class BasicNN(nn.Module):\n",
        "\n",
        "  def __init__(self):\n",
        "    super().__init__()\n",
        "    self.w00 = nn.Parameter(torch.tensor(1.7),requires_grad=False)\n",
        "    self.b00 = nn.Parameter(torch.tensor(-.85),requires_grad=False)\n",
        "    self.w01 = nn.Parameter(torch.tensor(-40.8),requires_grad=False)\n",
        "\n",
        "    self.w10 = nn.Parameter(torch.tensor(12.8),requires_grad=False)\n",
        "    self.b10 = nn.Parameter(torch.tensor(0.),requires_grad=False)\n",
        "    self.w11 = nn.Parameter(torch.tensor(2.7),requires_grad=False)\n",
        "\n",
        "    self.final_bias = nn.Parameter(torch.tensor(-16.),requires_grad=False)\n",
        "\n",
        "\n",
        "  def forward(self, input):\n",
        "    input_to_top_relu = input * self.w00 + self.b00\n",
        "    top_relu_output = F.relu(input_to_top_relu)\n",
        "    scaled_top_relu_output = top_relu_output * self.w01\n",
        "\n",
        "    input_to_bottom_relu = input * self.w10 + self.b10\n",
        "    bottom_relu_ouput = F.relu(input_to_bottom_relu)\n",
        "    scaled_bottom_relu_output = bottom_relu_ouput * self.w11\n",
        "\n",
        "    input_to_final_relu = scaled_top_relu_output + scaled_bottom_relu_output + self.final_bias\n",
        "\n",
        "    output = F.relu(input_to_final_relu)\n",
        "    return output\n",
        "\n"
      ],
      "metadata": {
        "id": "nJ0sPJdRa_3m"
      },
      "execution_count": null,
      "outputs": []
    },
    {
      "cell_type": "code",
      "source": [
        "input_doses = torch.linspace(start=0, end=1, steps=11)"
      ],
      "metadata": {
        "id": "xbNvqE71vhd-"
      },
      "execution_count": null,
      "outputs": []
    },
    {
      "cell_type": "code",
      "source": [
        "model = BasicNN()\n",
        "output_values = model(input_doses)"
      ],
      "metadata": {
        "id": "phkThQSqvrf9"
      },
      "execution_count": null,
      "outputs": []
    },
    {
      "cell_type": "code",
      "source": [
        "sns.lineplot(x=input_doses, y=output_values.detach())"
      ],
      "metadata": {
        "colab": {
          "base_uri": "https://localhost:8080/",
          "height": 283
        },
        "id": "WCNdTIYow6hO",
        "outputId": "ebedc2da-b916-40ad-d016-3fd970e42d21"
      },
      "execution_count": null,
      "outputs": [
        {
          "output_type": "execute_result",
          "data": {
            "text/plain": [
              "<Axes: >"
            ]
          },
          "metadata": {},
          "execution_count": 5
        },
        {
          "output_type": "display_data",
          "data": {
            "text/plain": [
              "<Figure size 432x288 with 1 Axes>"
            ],
            "image/png": "[encoded data removed]"
          },
          "metadata": {
            "needs_background": "light"
          }
        }
      ]
    },
    {
      "cell_type": "code",
      "source": [
        "class BasicNN_train(nn.Module):\n",
        "\n",
        "  def __init__(self):\n",
        "    super().__init__()\n",
        "    self.w00 = nn.Parameter(torch.tensor(1.7),requires_grad=False)\n",
        "    self.b00 = nn.Parameter(torch.tensor(-.85),requires_grad=False)\n",
        "    self.w01 = nn.Parameter(torch.tensor(-40.8),requires_grad=False)\n",
        "\n",
        "    self.w10 = nn.Parameter(torch.tensor(12.8),requires_grad=False)\n",
        "    self.b10 = nn.Parameter(torch.tensor(0.),requires_grad=False)\n",
        "    self.w11 = nn.Parameter(torch.tensor(2.7),requires_grad=False)\n",
        "\n",
        "    self.final_bias = nn.Parameter(torch.tensor(0.),requires_grad=True)\n",
        "\n",
        "\n",
        "  def forward(self, input):\n",
        "    input_to_top_relu = input * self.w00 + self.b00\n",
        "    top_relu_output = F.relu(input_to_top_relu)\n",
        "    scaled_top_relu_output = top_relu_output * self.w01\n",
        "\n",
        "    input_to_bottom_relu = input * self.w10 + self.b10\n",
        "    bottom_relu_ouput = F.relu(input_to_bottom_relu)\n",
        "    scaled_bottom_relu_output = bottom_relu_ouput * self.w11\n",
        "\n",
        "    input_to_final_relu = scaled_top_relu_output + scaled_bottom_relu_output + self.final_bias\n",
        "\n",
        "    output = F.relu(input_to_final_relu)\n",
        "    return output"
      ],
      "metadata": {
        "id": "dDr7rwjUvxDk"
      },
      "execution_count": null,
      "outputs": []
    },
    {
      "cell_type": "code",
      "source": [
        "model = BasicNN_train()\n",
        "output_values = model(input_doses)"
      ],
      "metadata": {
        "id": "RGz4uuBOw04-"
      },
      "execution_count": null,
      "outputs": []
    },
    {
      "cell_type": "code",
      "source": [
        "sns.lineplot(x=input_doses, y=output_values.detach())"
      ],
      "metadata": {
        "colab": {
          "base_uri": "https://localhost:8080/",
          "height": 283
        },
        "id": "3LPVtJp0vvS1",
        "outputId": "83bd0459-909f-419b-e0ea-9d6833b417ec"
      },
      "execution_count": null,
      "outputs": [
        {
          "output_type": "execute_result",
          "data": {
            "text/plain": [
              "<Axes: >"
            ]
          },
          "metadata": {},
          "execution_count": 8
        },
        {
          "output_type": "display_data",
          "data": {
            "text/plain": [
              "<Figure size 432x288 with 1 Axes>"
            ],
            "image/png": "[encoded data removed]"
          },
          "metadata": {
            "needs_background": "light"
          }
        }
      ]
    },
    {
      "cell_type": "markdown",
      "source": [
        "# ?Training ANN"
      ],
      "metadata": {
        "id": "5LfR3bd1xPCO"
      }
    },
    {
      "cell_type": "code",
      "source": [
        "inputs = torch.tensor([0., 0.5, 1.])\n",
        "labels = torch.tensor([0., 1., 0.])"
      ],
      "metadata": {
        "id": "w1W-zEmWyDd_"
      },
      "execution_count": null,
      "outputs": []
    },
    {
      "cell_type": "code",
      "source": [
        "optimizer = SGD(model.parameters(), lr=0.1)\n",
        "print(\"Final Bias before optimization: \"+str(model.final_bias.data)+\"\\n\")\n",
        "for epoch in range(100):\n",
        "  total_loss=0\n",
        "  for iteration in range(len(inputs)):\n",
        "    input_i = inputs[iteration]\n",
        "    label_i = labels[iteration]\n",
        "\n",
        "    output_i = model(input_i)\n",
        "    loss = (output_i - label_i)**2\n",
        "    loss.backward()\n",
        "    total_loss += float(loss)\n",
        "  if(total_loss<0.0001):\n",
        "    print(\"num steps: \"+str(epoch))\n",
        "    break\n",
        "  optimizer.step()\n",
        "  optimizer.zero_grad()\n",
        "  print(\"Step: \"+str(epoch)+\" Final_bias: \",str(model.final_bias.data)+\"\\n\")\n"
      ],
      "metadata": {
        "id": "DEdYPA16xS6W"
      },
      "execution_count": null,
      "outputs": []
    },
    {
      "cell_type": "markdown",
      "source": [
        "#New paper Testing(unfruitful)"
      ],
      "metadata": {
        "id": "ktVc7OrBFjn8"
      }
    },
    {
      "cell_type": "code",
      "source": [
        "!git clone https://github.com/yoonkim/CNN_sentence.git\n",
        "!pip3 install theano==0.7"
      ],
      "metadata": {
        "colab": {
          "base_uri": "https://localhost:8080/"
        },
        "id": "pTn2UGuhFjJQ",
        "outputId": "062acbee-0fb9-40ed-bbab-4a3b361b25e4"
      },
      "execution_count": null,
      "outputs": [
        {
          "output_type": "stream",
          "name": "stdout",
          "text": [
            "fatal: destination path 'CNN_sentence' already exists and is not an empty directory.\n",
            "Looking in indexes: https://pypi.org/simple, https://us-python.pkg.dev/colab-wheels/public/simple/\n",
            "Requirement already satisfied: theano==0.7 in /usr/local/lib/python3.9/dist-packages (0.7.0)\n",
            "Requirement already satisfied: numpy>=1.6.2 in /usr/local/lib/python3.9/dist-packages (from theano==0.7) (1.22.4)\n",
            "Requirement already satisfied: scipy>=0.11 in /usr/local/lib/python3.9/dist-packages (from theano==0.7) (1.10.1)\n"
          ]
        }
      ]
    },
    {
      "cell_type": "code",
      "source": [
        "\"\"\"\n",
        "Sample code for\n",
        "Convolutional Neural Networks for Sentence Classification\n",
        "http://arxiv.org/pdf/1408.5882v2.pdf\n",
        "\n",
        "Much of the code is modified from\n",
        "- deeplearning.net (for ConvNet classes)\n",
        "- https://github.com/mdenil/dropout (for dropout)\n",
        "- https://groups.google.com/forum/#!topic/pylearn-dev/3QbKtCumAW4 (for Adadelta)\n",
        "\"\"\"\n",
        "\n",
        "import numpy\n",
        "import theano.tensor.shared_randomstreams\n",
        "import theano\n",
        "import theano.tensor as T\n",
        "from theano.tensor.signal import downsample\n",
        "from theano.tensor.nnet import conv\n",
        "\n",
        "def ReLU(x):\n",
        "    y = T.maximum(0.0, x)\n",
        "    return(y)\n",
        "def Sigmoid(x):\n",
        "    y = T.nnet.sigmoid(x)\n",
        "    return(y)\n",
        "def Tanh(x):\n",
        "    y = T.tanh(x)\n",
        "    return(y)\n",
        "def Iden(x):\n",
        "    y = x\n",
        "    return(y)\n",
        "\n",
        "class HiddenLayer(object):\n",
        "    \"\"\"\n",
        "    Class for HiddenLayer\n",
        "    \"\"\"\n",
        "    def __init__(self, rng, input, n_in, n_out, activation, W=None, b=None,\n",
        "                 use_bias=False):\n",
        "\n",
        "        self.input = input\n",
        "        self.activation = activation\n",
        "\n",
        "        if W is None:\n",
        "            if activation.func_name == \"ReLU\":\n",
        "                W_values = numpy.asarray(0.01 * rng.standard_normal(size=(n_in, n_out)), dtype=theano.config.floatX)\n",
        "            else:\n",
        "                W_values = numpy.asarray(rng.uniform(low=-numpy.sqrt(6. / (n_in + n_out)), high=numpy.sqrt(6. / (n_in + n_out)),\n",
        "                                                     size=(n_in, n_out)), dtype=theano.config.floatX)\n",
        "            W = theano.shared(value=W_values, name='W')\n",
        "        if b is None:\n",
        "            b_values = numpy.zeros((n_out,), dtype=theano.config.floatX)\n",
        "            b = theano.shared(value=b_values, name='b')\n",
        "\n",
        "        self.W = W\n",
        "        self.b = b\n",
        "\n",
        "        if use_bias:\n",
        "            lin_output = T.dot(input, self.W) + self.b\n",
        "        else:\n",
        "            lin_output = T.dot(input, self.W)\n",
        "\n",
        "        self.output = (lin_output if activation is None else activation(lin_output))\n",
        "\n",
        "        # parameters of the model\n",
        "        if use_bias:\n",
        "            self.params = [self.W, self.b]\n",
        "        else:\n",
        "            self.params = [self.W]\n",
        "\n",
        "def _dropout_from_layer(rng, layer, p):\n",
        "    \"\"\"p is the probablity of dropping a unit\n",
        "\"\"\"\n",
        "    srng = theano.tensor.shared_randomstreams.RandomStreams(rng.randint(999999))\n",
        "    # p=1-p because 1's indicate keep and p is prob of dropping\n",
        "    mask = srng.binomial(n=1, p=1-p, size=layer.shape)\n",
        "    # The cast is important because\n",
        "    # int * float32 = float64 which pulls things off the gpu\n",
        "    output = layer * T.cast(mask, theano.config.floatX)\n",
        "    return output\n",
        "\n",
        "class DropoutHiddenLayer(HiddenLayer):\n",
        "    def __init__(self, rng, input, n_in, n_out,\n",
        "                 activation, dropout_rate, use_bias, W=None, b=None):\n",
        "        super(DropoutHiddenLayer, self).__init__(\n",
        "                rng=rng, input=input, n_in=n_in, n_out=n_out, W=W, b=b,\n",
        "                activation=activation, use_bias=use_bias)\n",
        "\n",
        "        self.output = _dropout_from_layer(rng, self.output, p=dropout_rate)\n",
        "\n",
        "class MLPDropout(object):\n",
        "    \"\"\"A multilayer perceptron with dropout\"\"\"\n",
        "    def __init__(self,rng,input,layer_sizes,dropout_rates,activations,use_bias=True):\n",
        "\n",
        "        #rectified_linear_activation = lambda x: T.maximum(0.0, x)\n",
        "\n",
        "        # Set up all the hidden layers\n",
        "        self.weight_matrix_sizes = zip(layer_sizes, layer_sizes[1:])\n",
        "        self.layers = []\n",
        "        self.dropout_layers = []\n",
        "        self.activations = activations\n",
        "        next_layer_input = input\n",
        "        #first_layer = True\n",
        "        # dropout the input\n",
        "        next_dropout_layer_input = _dropout_from_layer(rng, input, p=dropout_rates[0])\n",
        "        layer_counter = 0\n",
        "        for n_in, n_out in self.weight_matrix_sizes[:-1]:\n",
        "            next_dropout_layer = DropoutHiddenLayer(rng=rng,\n",
        "                    input=next_dropout_layer_input,\n",
        "                    activation=activations[layer_counter],\n",
        "                    n_in=n_in, n_out=n_out, use_bias=use_bias,\n",
        "                    dropout_rate=dropout_rates[layer_counter])\n",
        "            self.dropout_layers.append(next_dropout_layer)\n",
        "            next_dropout_layer_input = next_dropout_layer.output\n",
        "\n",
        "            # Reuse the parameters from the dropout layer here, in a different\n",
        "            # path through the graph.\n",
        "            next_layer = HiddenLayer(rng=rng,\n",
        "                    input=next_layer_input,\n",
        "                    activation=activations[layer_counter],\n",
        "                    # scale the weight matrix W with (1-p)\n",
        "                    W=next_dropout_layer.W * (1 - dropout_rates[layer_counter]),\n",
        "                    b=next_dropout_layer.b,\n",
        "                    n_in=n_in, n_out=n_out,\n",
        "                    use_bias=use_bias)\n",
        "            self.layers.append(next_layer)\n",
        "            next_layer_input = next_layer.output\n",
        "            #first_layer = False\n",
        "            layer_counter += 1\n",
        "\n",
        "        # Set up the output layer\n",
        "        n_in, n_out = self.weight_matrix_sizes[-1]\n",
        "        dropout_output_layer = LogisticRegression(\n",
        "                input=next_dropout_layer_input,\n",
        "                n_in=n_in, n_out=n_out)\n",
        "        self.dropout_layers.append(dropout_output_layer)\n",
        "\n",
        "        # Again, reuse paramters in the dropout output.\n",
        "        output_layer = LogisticRegression(\n",
        "            input=next_layer_input,\n",
        "            # scale the weight matrix W with (1-p)\n",
        "            W=dropout_output_layer.W * (1 - dropout_rates[-1]),\n",
        "            b=dropout_output_layer.b,\n",
        "            n_in=n_in, n_out=n_out)\n",
        "        self.layers.append(output_layer)\n",
        "\n",
        "        # Use the negative log likelihood of the logistic regression layer as\n",
        "        # the objective.\n",
        "        self.dropout_negative_log_likelihood = self.dropout_layers[-1].negative_log_likelihood\n",
        "        self.dropout_errors = self.dropout_layers[-1].errors\n",
        "\n",
        "        self.negative_log_likelihood = self.layers[-1].negative_log_likelihood\n",
        "        self.errors = self.layers[-1].errors\n",
        "\n",
        "        # Grab all the parameters together.\n",
        "        self.params = [ param for layer in self.dropout_layers for param in layer.params ]\n",
        "\n",
        "    def predict(self, new_data):\n",
        "        next_layer_input = new_data\n",
        "        for i,layer in enumerate(self.layers):\n",
        "            if i<len(self.layers)-1:\n",
        "                next_layer_input = self.activations[i](T.dot(next_layer_input,layer.W) + layer.b)\n",
        "            else:\n",
        "                p_y_given_x = T.nnet.softmax(T.dot(next_layer_input, layer.W) + layer.b)\n",
        "        y_pred = T.argmax(p_y_given_x, axis=1)\n",
        "        return y_pred\n",
        "\n",
        "    def predict_p(self, new_data):\n",
        "        next_layer_input = new_data\n",
        "        for i,layer in enumerate(self.layers):\n",
        "            if i<len(self.layers)-1:\n",
        "                next_layer_input = self.activations[i](T.dot(next_layer_input,layer.W) + layer.b)\n",
        "            else:\n",
        "                p_y_given_x = T.nnet.softmax(T.dot(next_layer_input, layer.W) + layer.b)\n",
        "        return p_y_given_x\n",
        "\n",
        "class MLP(object):\n",
        "    \"\"\"Multi-Layer Perceptron Class\n",
        "\n",
        "    A multilayer perceptron is a feedforward artificial neural network model\n",
        "    that has one layer or more of hidden units and nonlinear activations.\n",
        "    Intermediate layers usually have as activation function tanh or the\n",
        "    sigmoid function (defined here by a ``HiddenLayer`` class)  while the\n",
        "    top layer is a softamx layer (defined here by a ``LogisticRegression``\n",
        "    class).\n",
        "    \"\"\"\n",
        "\n",
        "    def __init__(self, rng, input, n_in, n_hidden, n_out):\n",
        "        \"\"\"Initialize the parameters for the multilayer perceptron\n",
        "\n",
        "        :type rng: numpy.random.RandomState\n",
        "        :param rng: a random number generator used to initialize weights\n",
        "\n",
        "        :type input: theano.tensor.TensorType\n",
        "        :param input: symbolic variable that describes the input of the\n",
        "        architecture (one minibatch)\n",
        "\n",
        "        :type n_in: int\n",
        "        :param n_in: number of input units, the dimension of the space in\n",
        "        which the datapoints lie\n",
        "\n",
        "        :type n_hidden: int\n",
        "        :param n_hidden: number of hidden units\n",
        "\n",
        "        :type n_out: int\n",
        "        :param n_out: number of output units, the dimension of the space in\n",
        "        which the labels lie\n",
        "\n",
        "        \"\"\"\n",
        "\n",
        "        # Since we are dealing with a one hidden layer MLP, this will translate\n",
        "        # into a HiddenLayer with a tanh activation function connected to the\n",
        "        # LogisticRegression layer; the activation function can be replaced by\n",
        "        # sigmoid or any other nonlinear function\n",
        "        self.hiddenLayer = HiddenLayer(rng=rng, input=input,\n",
        "                                       n_in=n_in, n_out=n_hidden,\n",
        "                                       activation=T.tanh)\n",
        "\n",
        "        # The logistic regression layer gets as input the hidden units\n",
        "        # of the hidden layer\n",
        "        self.logRegressionLayer = LogisticRegression(\n",
        "            input=self.hiddenLayer.output,\n",
        "            n_in=n_hidden,\n",
        "            n_out=n_out)\n",
        "\n",
        "        # L1 norm ; one regularization option is to enforce L1 norm to\n",
        "        # be small\n",
        "\n",
        "        # negative log likelihood of the MLP is given by the negative\n",
        "        # log likelihood of the output of the model, computed in the\n",
        "        # logistic regression layer\n",
        "        self.negative_log_likelihood = self.logRegressionLayer.negative_log_likelihood\n",
        "        # same holds for the function computing the number of errors\n",
        "        self.errors = self.logRegressionLayer.errors\n",
        "\n",
        "        # the parameters of the model are the parameters of the two layer it is\n",
        "        # made out of\n",
        "        self.params = self.hiddenLayer.params + self.logRegressionLayer.params\n",
        "\n",
        "class LogisticRegression(object):\n",
        "    \"\"\"Multi-class Logistic Regression Class\n",
        "\n",
        "    The logistic regression is fully described by a weight matrix :math:`W`\n",
        "    and bias vector :math:`b`. Classification is done by projecting data\n",
        "    points onto a set of hyperplanes, the distance to which is used to\n",
        "    determine a class membership probability.\n",
        "    \"\"\"\n",
        "\n",
        "    def __init__(self, input, n_in, n_out, W=None, b=None):\n",
        "        \"\"\" Initialize the parameters of the logistic regression\n",
        "\n",
        "    :type input: theano.tensor.TensorType\n",
        "    :param input: symbolic variable that describes the input of the\n",
        "    architecture (one minibatch)\n",
        "\n",
        "    :type n_in: int\n",
        "    :param n_in: number of input units, the dimension of the space in\n",
        "    which the datapoints lie\n",
        "\n",
        "    :type n_out: int\n",
        "    :param n_out: number of output units, the dimension of the space in\n",
        "    which the labels lie\n",
        "\n",
        "    \"\"\"\n",
        "\n",
        "        # initialize with 0 the weights W as a matrix of shape (n_in, n_out)\n",
        "        if W is None:\n",
        "            self.W = theano.shared(\n",
        "                    value=numpy.zeros((n_in, n_out), dtype=theano.config.floatX),\n",
        "                    name='W')\n",
        "        else:\n",
        "            self.W = W\n",
        "\n",
        "        # initialize the baises b as a vector of n_out 0s\n",
        "        if b is None:\n",
        "            self.b = theano.shared(\n",
        "                    value=numpy.zeros((n_out,), dtype=theano.config.floatX),\n",
        "                    name='b')\n",
        "        else:\n",
        "            self.b = b\n",
        "\n",
        "        # compute vector of class-membership probabilities in symbolic form\n",
        "        self.p_y_given_x = T.nnet.softmax(T.dot(input, self.W) + self.b)\n",
        "\n",
        "        # compute prediction as class whose probability is maximal in\n",
        "        # symbolic form\n",
        "        self.y_pred = T.argmax(self.p_y_given_x, axis=1)\n",
        "\n",
        "        # parameters of the model\n",
        "        self.params = [self.W, self.b]\n",
        "\n",
        "    def negative_log_likelihood(self, y):\n",
        "        \"\"\"Return the mean of the negative log-likelihood of the prediction\n",
        "        of this model under a given target distribution.\n",
        "\n",
        "    .. math::\n",
        "\n",
        "    \\frac{1}{|\\mathcal{D}|} \\mathcal{L} (\\theta=\\{W,b\\}, \\mathcal{D}) =\n",
        "    \\frac{1}{|\\mathcal{D}|} \\sum_{i=0}^{|\\mathcal{D}|} \\log(P(Y=y^{(i)}|x^{(i)}, W,b)) \\\\\n",
        "    \\ell (\\theta=\\{W,b\\}, \\mathcal{D})\n",
        "\n",
        "    :type y: theano.tensor.TensorType\n",
        "    :param y: corresponds to a vector that gives for each example the\n",
        "    correct label\n",
        "\n",
        "    Note: we use the mean instead of the sum so that\n",
        "    the learning rate is less dependent on the batch size\n",
        "    \"\"\"\n",
        "        # y.shape[0] is (symbolically) the number of rows in y, i.e.,\n",
        "        # number of examples (call it n) in the minibatch\n",
        "        # T.arange(y.shape[0]) is a symbolic vector which will contain\n",
        "        # [0,1,2,... n-1] T.log(self.p_y_given_x) is a matrix of\n",
        "        # Log-Probabilities (call it LP) with one row per example and\n",
        "        # one column per class LP[T.arange(y.shape[0]),y] is a vector\n",
        "        # v containing [LP[0,y[0]], LP[1,y[1]], LP[2,y[2]], ...,\n",
        "        # LP[n-1,y[n-1]]] and T.mean(LP[T.arange(y.shape[0]),y]) is\n",
        "        # the mean (across minibatch examples) of the elements in v,\n",
        "        # i.e., the mean log-likelihood across the minibatch.\n",
        "        return -T.mean(T.log(self.p_y_given_x)[T.arange(y.shape[0]), y])\n",
        "\n",
        "    def errors(self, y):\n",
        "        \"\"\"Return a float representing the number of errors in the minibatch ;\n",
        "    zero one loss over the size of the minibatch\n",
        "\n",
        "    :type y: theano.tensor.TensorType\n",
        "    :param y: corresponds to a vector that gives for each example the\n",
        "    correct label\n",
        "    \"\"\"\n",
        "\n",
        "        # check if y has same dimension of y_pred\n",
        "        if y.ndim != self.y_pred.ndim:\n",
        "            raise TypeError('y should have the same shape as self.y_pred',\n",
        "                ('y', target.type, 'y_pred', self.y_pred.type))\n",
        "        # check if y is of the correct datatype\n",
        "        if y.dtype.startswith('int'):\n",
        "            # the T.neq operator returns a vector of 0s and 1s, where 1\n",
        "            # represents a mistake in prediction\n",
        "            return T.mean(T.neq(self.y_pred, y))\n",
        "        else:\n",
        "            raise NotImplementedError()\n",
        "\n",
        "class LeNetConvPoolLayer(object):\n",
        "    \"\"\"Pool Layer of a convolutional network \"\"\"\n",
        "\n",
        "    def __init__(self, rng, input, filter_shape, image_shape, poolsize=(2, 2), non_linear=\"tanh\"):\n",
        "        \"\"\"\n",
        "        Allocate a LeNetConvPoolLayer with shared variable internal parameters.\n",
        "\n",
        "        :type rng: numpy.random.RandomState\n",
        "        :param rng: a random number generator used to initialize weights\n",
        "\n",
        "        :type input: theano.tensor.dtensor4\n",
        "        :param input: symbolic image tensor, of shape image_shape\n",
        "\n",
        "        :type filter_shape: tuple or list of length 4\n",
        "        :param filter_shape: (number of filters, num input feature maps,\n",
        "                              filter height,filter width)\n",
        "\n",
        "        :type image_shape: tuple or list of length 4\n",
        "        :param image_shape: (batch size, num input feature maps,\n",
        "                             image height, image width)\n",
        "\n",
        "        :type poolsize: tuple or list of length 2\n",
        "        :param poolsize: the downsampling (pooling) factor (#rows,#cols)\n",
        "        \"\"\"\n",
        "\n",
        "        assert image_shape[1] == filter_shape[1]\n",
        "        self.input = input\n",
        "        self.filter_shape = filter_shape\n",
        "        self.image_shape = image_shape\n",
        "        self.poolsize = poolsize\n",
        "        self.non_linear = non_linear\n",
        "        # there are \"num input feature maps * filter height * filter width\"\n",
        "        # inputs to each hidden unit\n",
        "        fan_in = numpy.prod(filter_shape[1:])\n",
        "        # each unit in the lower layer receives a gradient from:\n",
        "        # \"num output feature maps * filter height * filter width\" /\n",
        "        #   pooling size\n",
        "        fan_out = (filter_shape[0] * numpy.prod(filter_shape[2:]) /numpy.prod(poolsize))\n",
        "        # initialize weights with random weights\n",
        "        if self.non_linear==\"none\" or self.non_linear==\"relu\":\n",
        "            self.W = theano.shared(numpy.asarray(rng.uniform(low=-0.01,high=0.01,size=filter_shape),\n",
        "                                                dtype=theano.config.floatX),borrow=True,name=\"W_conv\")\n",
        "        else:\n",
        "            W_bound = numpy.sqrt(6. / (fan_in + fan_out))\n",
        "            self.W = theano.shared(numpy.asarray(rng.uniform(low=-W_bound, high=W_bound, size=filter_shape),\n",
        "                dtype=theano.config.floatX),borrow=True,name=\"W_conv\")\n",
        "        b_values = numpy.zeros((filter_shape[0],), dtype=theano.config.floatX)\n",
        "        self.b = theano.shared(value=b_values, borrow=True, name=\"b_conv\")\n",
        "\n",
        "        # convolve input feature maps with filters\n",
        "        conv_out = conv.conv2d(input=input, filters=self.W,filter_shape=self.filter_shape, image_shape=self.image_shape)\n",
        "        if self.non_linear==\"tanh\":\n",
        "            conv_out_tanh = T.tanh(conv_out + self.b.dimshuffle('x', 0, 'x', 'x'))\n",
        "            self.output = downsample.max_pool_2d(input=conv_out_tanh, ds=self.poolsize, ignore_border=True)\n",
        "        elif self.non_linear==\"relu\":\n",
        "            conv_out_tanh = ReLU(conv_out + self.b.dimshuffle('x', 0, 'x', 'x'))\n",
        "            self.output = downsample.max_pool_2d(input=conv_out_tanh, ds=self.poolsize, ignore_border=True)\n",
        "        else:\n",
        "            pooled_out = downsample.max_pool_2d(input=conv_out, ds=self.poolsize, ignore_border=True)\n",
        "            self.output = pooled_out + self.b.dimshuffle('x', 0, 'x', 'x')\n",
        "        self.params = [self.W, self.b]\n",
        "\n",
        "    def predict(self, new_data, batch_size):\n",
        "        \"\"\"\n",
        "        predict for new data\n",
        "        \"\"\"\n",
        "        img_shape = (batch_size, 1, self.image_shape[2], self.image_shape[3])\n",
        "        conv_out = conv.conv2d(input=new_data, filters=self.W, filter_shape=self.filter_shape, image_shape=img_shape)\n",
        "        if self.non_linear==\"tanh\":\n",
        "            conv_out_tanh = T.tanh(conv_out + self.b.dimshuffle('x', 0, 'x', 'x'))\n",
        "            output = downsample.max_pool_2d(input=conv_out_tanh, ds=self.poolsize, ignore_border=True)\n",
        "        if self.non_linear==\"relu\":\n",
        "            conv_out_tanh = ReLU(conv_out + self.b.dimshuffle('x', 0, 'x', 'x'))\n",
        "            output = downsample.max_pool_2d(input=conv_out_tanh, ds=self.poolsize, ignore_border=True)\n",
        "        else:\n",
        "            pooled_out = downsample.max_pool_2d(input=conv_out, ds=self.poolsize, ignore_border=True)\n",
        "            output = pooled_out + self.b.dimshuffle('x', 0, 'x', 'x')\n",
        "        return output\n",
        "\n"
      ],
      "metadata": {
        "colab": {
          "base_uri": "https://localhost:8080/",
          "height": 390
        },
        "id": "Q_XUKbn9GDu_",
        "outputId": "36be447b-f3c4-4372-aec4-69ce7c245f8d"
      },
      "execution_count": null,
      "outputs": [
        {
          "output_type": "error",
          "ename": "AttributeError",
          "evalue": "ignored",
          "traceback": [
            "\u001b[0;31m---------------------------------------------------------------------------\u001b[0m",
            "\u001b[0;31mAttributeError\u001b[0m                            Traceback (most recent call last)",
            "\u001b[0;32m<ipython-input-2-c186c0945f47>\u001b[0m in \u001b[0;36m<cell line: 13>\u001b[0;34m()\u001b[0m\n\u001b[1;32m     11\u001b[0m \u001b[0;34m\u001b[0m\u001b[0m\n\u001b[1;32m     12\u001b[0m \u001b[0;32mimport\u001b[0m \u001b[0mnumpy\u001b[0m\u001b[0;34m\u001b[0m\u001b[0;34m\u001b[0m\u001b[0m\n\u001b[0;32m---> 13\u001b[0;31m \u001b[0;32mimport\u001b[0m \u001b[0mtheano\u001b[0m\u001b[0;34m.\u001b[0m\u001b[0mtensor\u001b[0m\u001b[0;34m.\u001b[0m\u001b[0mshared_randomstreams\u001b[0m\u001b[0;34m\u001b[0m\u001b[0;34m\u001b[0m\u001b[0m\n\u001b[0m\u001b[1;32m     14\u001b[0m \u001b[0;32mimport\u001b[0m \u001b[0mtheano\u001b[0m\u001b[0;34m\u001b[0m\u001b[0;34m\u001b[0m\u001b[0m\n\u001b[1;32m     15\u001b[0m \u001b[0;32mimport\u001b[0m \u001b[0mtheano\u001b[0m\u001b[0;34m.\u001b[0m\u001b[0mtensor\u001b[0m \u001b[0;32mas\u001b[0m \u001b[0mT\u001b[0m\u001b[0;34m\u001b[0m\u001b[0;34m\u001b[0m\u001b[0m\n",
            "\u001b[0;32m/usr/local/lib/python3.9/dist-packages/theano/__init__.py\u001b[0m in \u001b[0;36m<module>\u001b[0;34m\u001b[0m\n\u001b[1;32m     64\u001b[0m \u001b[0;32mfrom\u001b[0m \u001b[0mtheano\u001b[0m\u001b[0;34m.\u001b[0m\u001b[0mmisc\u001b[0m\u001b[0;34m.\u001b[0m\u001b[0msafe_asarray\u001b[0m \u001b[0;32mimport\u001b[0m \u001b[0m_asarray\u001b[0m\u001b[0;34m\u001b[0m\u001b[0;34m\u001b[0m\u001b[0m\n\u001b[1;32m     65\u001b[0m \u001b[0;34m\u001b[0m\u001b[0m\n\u001b[0;32m---> 66\u001b[0;31m \u001b[0;32mfrom\u001b[0m \u001b[0mtheano\u001b[0m\u001b[0;34m.\u001b[0m\u001b[0mprinting\u001b[0m \u001b[0;32mimport\u001b[0m \u001b[0mpprint\u001b[0m\u001b[0;34m,\u001b[0m \u001b[0mpp\u001b[0m\u001b[0;34m\u001b[0m\u001b[0;34m\u001b[0m\u001b[0m\n\u001b[0m\u001b[1;32m     67\u001b[0m \u001b[0;34m\u001b[0m\u001b[0m\n\u001b[1;32m     68\u001b[0m \u001b[0;32mfrom\u001b[0m \u001b[0mtheano\u001b[0m\u001b[0;34m.\u001b[0m\u001b[0mscan_module\u001b[0m \u001b[0;32mimport\u001b[0m \u001b[0mscan\u001b[0m\u001b[0;34m,\u001b[0m \u001b[0mmap\u001b[0m\u001b[0;34m,\u001b[0m \u001b[0mreduce\u001b[0m\u001b[0;34m,\u001b[0m \u001b[0mfoldl\u001b[0m\u001b[0;34m,\u001b[0m \u001b[0mfoldr\u001b[0m\u001b[0;34m,\u001b[0m \u001b[0mclone\u001b[0m\u001b[0;34m\u001b[0m\u001b[0;34m\u001b[0m\u001b[0m\n",
            "\u001b[0;32m/usr/local/lib/python3.9/dist-packages/theano/printing.py\u001b[0m in \u001b[0;36m<module>\u001b[0;34m\u001b[0m\n\u001b[1;32m     18\u001b[0m \u001b[0;32mtry\u001b[0m\u001b[0;34m:\u001b[0m\u001b[0;34m\u001b[0m\u001b[0;34m\u001b[0m\u001b[0m\n\u001b[1;32m     19\u001b[0m     \u001b[0;32mimport\u001b[0m \u001b[0mpydot\u001b[0m \u001b[0;32mas\u001b[0m \u001b[0mpd\u001b[0m\u001b[0;34m\u001b[0m\u001b[0;34m\u001b[0m\u001b[0m\n\u001b[0;32m---> 20\u001b[0;31m     \u001b[0;32mif\u001b[0m \u001b[0mpd\u001b[0m\u001b[0;34m.\u001b[0m\u001b[0mfind_graphviz\u001b[0m\u001b[0;34m(\u001b[0m\u001b[0;34m)\u001b[0m\u001b[0;34m:\u001b[0m\u001b[0;34m\u001b[0m\u001b[0;34m\u001b[0m\u001b[0m\n\u001b[0m\u001b[1;32m     21\u001b[0m         \u001b[0mpydot_imported\u001b[0m \u001b[0;34m=\u001b[0m \u001b[0;32mTrue\u001b[0m\u001b[0;34m\u001b[0m\u001b[0;34m\u001b[0m\u001b[0m\n\u001b[1;32m     22\u001b[0m     \u001b[0;32melse\u001b[0m\u001b[0;34m:\u001b[0m\u001b[0;34m\u001b[0m\u001b[0;34m\u001b[0m\u001b[0m\n",
            "\u001b[0;31mAttributeError\u001b[0m: module 'pydot' has no attribute 'find_graphviz'"
          ]
        }
      ]
    }
  ]
}